{
 "cells": [
  {
   "cell_type": "code",
   "execution_count": 274,
   "metadata": {},
   "outputs": [],
   "source": [
    "import pandas as pd\n",
    "from sklearn.linear_model import LogisticRegression as LR\n",
    "from sklearn.metrics import accuracy_score\n",
    "from sklearn.svm import SVC\n",
    "from sklearn.neighbors import KNeighborsClassifier as KNN\n",
    "import numpy as np\n",
    "from sklearn.tree import DecisionTreeClassifier as DTC\n",
    "import statsmodels.api as sm\n",
    "from pandas.core import datetools"
   ]
  },
  {
   "cell_type": "code",
   "execution_count": 275,
   "metadata": {
    "collapsed": true
   },
   "outputs": [],
   "source": [
    "def read_train_val_test(train_path, val_path, test_path):\n",
    "    train_data = pd.read_csv(train_path).reset_index()\n",
    "    val_data = pd.read_csv(val_path).reset_index()\n",
    "    test_data = pd.read_csv(test_path).reset_index()\n",
    "    return train_data, val_data, test_data"
   ]
  },
  {
   "cell_type": "code",
   "execution_count": 276,
   "metadata": {
    "collapsed": true
   },
   "outputs": [],
   "source": [
    "senate_name_dict = {}\n",
    "house_name_dict = {}\n",
    "def enumerate_districts(df, type):\n",
    "    names = df['District']\n",
    "    count = 0\n",
    "    for name in names:\n",
    "        if type == \"Senate\":\n",
    "            if name not in senate_name_dict:\n",
    "                senate_name_dict[name] = count\n",
    "                count += 1\n",
    "        elif type == \"House\":\n",
    "            if name not in house_name_dict:\n",
    "                house_name_dict[name] = count\n",
    "                count += 1"
   ]
  },
  {
   "cell_type": "code",
   "execution_count": 277,
   "metadata": {
    "collapsed": true
   },
   "outputs": [],
   "source": [
    "def replace_district(x, type):\n",
    "    if type == \"Senate\":\n",
    "        return senate_name_dict[x]\n",
    "    elif type == \"House\":\n",
    "        return house_name_dict[x]"
   ]
  },
  {
   "cell_type": "code",
   "execution_count": 278,
   "metadata": {
    "collapsed": true
   },
   "outputs": [],
   "source": [
    "def clean_data(df, type):\n",
    "    # make all text binary\n",
    "    df = df.drop(\"name\", axis=1)\n",
    "    df['sex'].replace('f', 1, inplace=True)\n",
    "    df['sex'].replace('m', 0, inplace=True)\n",
    "    df['party'].replace('Democratic', 1, inplace=True)\n",
    "    df['party'].replace('Republican', 0, inplace=True)\n",
    "    \n",
    "    # fill NaN's with mean from column\n",
    "    df['sex'] = df['sex'].fillna(round(df['sex'].mean()))\n",
    "    df['party'] = df['party'].fillna(df['party'].mean())\n",
    "    df['Amount'] = df['Amount'].fillna(df['Amount'].mean())\n",
    "    \n",
    "    df['vote_count'] = df['vote_count'].apply(lambda x: str(x).replace(\",\", \"\").replace('nan', 'NaN')).astype(float)\n",
    "    df['vote_count'] = df['vote_count'].fillna(df['vote_count'].mean())\n",
    "    df['vote_percent'] = df['vote_percent'].fillna(df['vote_percent'].mean())\n",
    "    df['District'] = df[\"District\"].apply(lambda x: replace_district(x, type))\n",
    "    \n",
    "    return df"
   ]
  },
  {
   "cell_type": "code",
   "execution_count": 300,
   "metadata": {
    "collapsed": true
   },
   "outputs": [],
   "source": [
    "def classify_logistic_regression(train_df, val_df, test_df=None):\n",
    "    y_train = train_df['sex']\n",
    "    X_train = train_df.drop('sex', axis=1)\n",
    "    \n",
    "    y_val = val_df['sex']\n",
    "    X_val = val_df.drop('sex', axis=1)\n",
    "    \n",
    "    classifier = LR()\n",
    "    classifier.fit(X_train, y_train)\n",
    "    pred = classifier.predict(X_val)\n",
    "    \n",
    "    if test_df is not None:\n",
    "        y_test = test_df['sex']\n",
    "        X_test = test_df.drop('sex', axis=1)\n",
    "        test_pred = classifier.predict(X_test)\n",
    "        print(\"Test accuracy: {}\".format(accuracy_score(y_test, test_pred)))\n",
    "    \n",
    "    return accuracy_score(y_val, pred)"
   ]
  },
  {
   "cell_type": "code",
   "execution_count": 301,
   "metadata": {
    "collapsed": true
   },
   "outputs": [],
   "source": [
    "def classify_svm(train_df, val_df, test_df=None):\n",
    "    y_train = train_df['sex']\n",
    "    X_train = train_df.drop('sex', axis=1)\n",
    "    \n",
    "    y_val = val_df['sex']\n",
    "    X_val = val_df.drop('sex', axis=1)\n",
    "    \n",
    "    classifier = SVC()\n",
    "    classifier.fit(X_train, y_train)\n",
    "    pred = classifier.predict(X_val)\n",
    "    \n",
    "    if test_df is not None:\n",
    "        y_test = test_df['sex']\n",
    "        X_test = test_df.drop('sex', axis=1)\n",
    "        test_pred = classifier.predict(X_test)\n",
    "        print(\"Test accuracy: {}\".format(accuracy_score(y_test, test_pred)))\n",
    "    \n",
    "    \n",
    "    return accuracy_score(y_val, pred)"
   ]
  },
  {
   "cell_type": "code",
   "execution_count": 310,
   "metadata": {
    "collapsed": true
   },
   "outputs": [],
   "source": [
    "def classify_knn(train_df, val_df, test_df=None):\n",
    "    y_train = train_df['sex']\n",
    "    X_train = train_df.drop('sex', axis=1)\n",
    "    \n",
    "    y_val = val_df['sex']\n",
    "    X_val = val_df.drop('sex', axis=1)\n",
    "    accuracy = [0]*15\n",
    "    for i in range(1, 16):\n",
    "        classifier = KNN(n_neighbors=i)\n",
    "        classifier.fit(X_train, y_train)\n",
    "        pred = classifier.predict(X_val)\n",
    "        accuracy[i-1] = accuracy_score(y_val, pred)\n",
    "        \n",
    "    if test_df is not None:\n",
    "        classifier = KNN(n_neighbors=accuracy.index(max(accuracy)))\n",
    "        classifier.fit(X_train, y_train)\n",
    "        \n",
    "        y_test = test_df['sex']\n",
    "        X_test = test_df.drop('sex', axis=1)\n",
    "        test_pred = classifier.predict(X_test)\n",
    "        print(\"Test accuracy: {}\".format(accuracy_score(y_test, test_pred)))\n",
    "    return accuracy"
   ]
  },
  {
   "cell_type": "code",
   "execution_count": 303,
   "metadata": {
    "collapsed": true
   },
   "outputs": [],
   "source": [
    "def classify_dtc(train_df, val_df, test_df=None):\n",
    "    y_train = train_df['sex']\n",
    "    X_train = train_df.drop('sex', axis=1)\n",
    "    \n",
    "    y_val = val_df['sex']\n",
    "    X_val = val_df.drop('sex', axis=1)\n",
    "    \n",
    "    classifier_gini = DTC(random_state=40)\n",
    "    classifier_entropy = DTC(criterion='entropy', random_state=40)\n",
    "    \n",
    "    classifier_gini.fit(X_train, y_train)\n",
    "    classifier_entropy.fit(X_train, y_train)\n",
    "    \n",
    "    pred_gini = classifier_gini.predict(X_val)\n",
    "    pred_entropy = classifier_entropy.predict(X_val)\n",
    "    \n",
    "    if test_df is not None:\n",
    "        y_test = test_df['sex']\n",
    "        X_test = test_df.drop('sex', axis=1)\n",
    "        test_pred = classifier_gini.predict(X_test)\n",
    "        print(\"Test accuracy: {}\".format(accuracy_score(y_test, test_pred)))\n",
    "        \n",
    "    return accuracy_score(y_val, pred_gini), accuracy_score(y_val, pred_entropy)"
   ]
  },
  {
   "cell_type": "code",
   "execution_count": 304,
   "metadata": {
    "collapsed": true
   },
   "outputs": [],
   "source": [
    "def classify_ols(train_df, val_df):\n",
    "    y_train = train_df['sex']\n",
    "    X_train = train_df.drop('sex', axis=1)\n",
    "    \n",
    "    y_val = val_df['sex']\n",
    "    X_val = val_df.drop('sex', axis=1)\n",
    "    \n",
    "    classifier = sm.OLS(y_train, X_train)\n",
    "    results = classifier.fit()\n",
    "    pred = round(results.predict(X_val))\n",
    "    return accuracy_score(y_val, pred)"
   ]
  },
  {
   "cell_type": "code",
   "execution_count": 305,
   "metadata": {},
   "outputs": [
    {
     "name": "stdout",
     "output_type": "stream",
     "text": [
      "{'Berkshire, Hampshire & Franklin': 0, 'Bristol & Norfolk': 1, 'Cape & Islands': 2, 'First Bristol & Plymouth': 3, 'First Essex': 4, 'First Essex & Middlesex': 5, 'First Hampden & Hampshire': 6, 'First Middlesex': 7, 'First Middlesex & Norfolk': 8, 'First Plymouth & Bristol': 9, 'First Suffolk': 10, 'First Suffolk & Middlesex': 11, 'First Worcester': 12, 'Fourth Middlesex': 13, 'Hampden': 14, 'Hampshire & Franklin': 15, 'Middlesex & Essex': 16, 'Middlesex & Worcester': 17, 'Middlesex, Suffolk & Essex': 18, 'Norfolk & Plymouth': 19, 'Norfolk, Bristol & Middlesex': 20, 'Norfolk, Bristol & Plymouth': 21, 'Plymouth & Barnstable': 22, 'Plymouth & Norfolk': 23, 'Second Bristol & Plymouth': 24, 'Second Essex': 25, 'Second Essex & Middlesex': 26, 'Second Hampden & Hampshire': 27, 'Second Middlesex': 28, 'Second Middlesex & Norfolk': 29, 'Second Plymouth & Bristol': 30, 'Second Suffolk': 31, 'Second Suffolk & Middlesex': 32, 'Second Worcester': 33, 'Suffolk & Norfolk': 34, 'Third Essex & Middlesex': 35, 'Third Middlesex': 36, 'Worcester & Middlesex': 37, 'Worcester & Norfolk': 38, 'Worcester, Hampden, Hampshire & Franklin': 39, 'Berkshire, Hampshire, Franklin & Hampden': 40, 'Fifth Middlesex': 41, 'Hampshire, Franklin & Worcester': 42, 'Middlesex & Suffolk': 43, 'Norfolk & Suffolk': 44, 'Third Essex': 45, 'Worcester, Hampden, Hampshire & Middlesex': 46}\n",
      "Logistic Regression: \n",
      "0.682926829268\n",
      "SVM: \n",
      "0.69512195122\n",
      "K-Nearest Neighbors: \n",
      "[0.56097560975609762, 0.68292682926829273, 0.56097560975609762, 0.67073170731707321, 0.65853658536585369, 0.69512195121951215, 0.68292682926829273, 0.67073170731707321, 0.65853658536585369, 0.69512195121951215, 0.69512195121951215, 0.69512195121951215, 0.69512195121951215, 0.69512195121951215, 0.69512195121951215]\n",
      "Decision Tree Classifier: \n",
      "(0.76829268292682928, 0.69512195121951215)\n",
      "OLS Logistic Regression: \n",
      "0.536585365854\n"
     ]
    }
   ],
   "source": [
    "senate_train_data, senate_val_data, senate_test_data = read_train_val_test(\"train_data/merged_senate_districts_2009_2012.csv\", \"valid_data/merged_senate_districts_2013_2014.csv\", \"test_data/merged_senate_districts_2015_2016.csv\")\n",
    "enumerate_districts(senate_train_data, \"Senate\")\n",
    "enumerate_districts(senate_val_data, \"Senate\")\n",
    "enumerate_districts(senate_test_data, \"Senate\")\n",
    "print(senate_name_dict)\n",
    "    \n",
    "cleaned_train_senate = clean_data(senate_train_data,\"Senate\")\n",
    "cleaned_val_senate = clean_data(senate_val_data,\"Senate\")\n",
    "cleaned_test_senate = clean_data(senate_test_data,\"Senate\")\n",
    "\n",
    "print(\"Logistic Regression: \")\n",
    "print(classify_logistic_regression(cleaned_train_senate, cleaned_val_senate))\n",
    "print(\"SVM: \")\n",
    "print(classify_svm(cleaned_train_senate, cleaned_val_senate))\n",
    "print(\"K-Nearest Neighbors: \")\n",
    "print(classify_knn(cleaned_train_senate, cleaned_val_senate))\n",
    "print(\"Decision Tree Classifier: \")\n",
    "print(classify_dtc(cleaned_train_senate, cleaned_val_senate))\n",
    "print(\"OLS Logistic Regression: \")\n",
    "print(classify_ols(cleaned_train_senate, cleaned_val_senate))"
   ]
  },
  {
   "cell_type": "code",
   "execution_count": 306,
   "metadata": {},
   "outputs": [
    {
     "name": "stdout",
     "output_type": "stream",
     "text": [
      "{'10th Bristol': 0, '10th Essex': 1, '10th Hampden': 2, '10th Middlesex': 3, '10th Norfolk': 4, '10th Plymouth': 5, '10th Suffolk': 6, '10th Worcester': 7, '11th Bristol': 8, '11th Essex': 9, '11th Hampden': 10, '11th Middlesex': 11, '11th Norfolk': 12, '11th Plymouth': 13, '11th Suffolk': 14, '11th Worcester': 15, '12th Bristol': 16, '12th Essex': 17, '12th Hampden': 18, '12th Middlesex': 19, '12th Norfolk': 20, '12th Plymouth': 21, '12th Suffolk': 22, '12th Worcester': 23, '13th Bristol': 24, '13th Essex': 25, '13th Middlesex': 26, '13th Norfolk': 27, '13th Suffolk': 28, '13th Worcester': 29, '14th Bristol': 30, '14th Essex': 31, '14th Middlesex': 32, '14th Norfolk': 33, '14th Suffolk': 34, '14th Worcester': 35, '15th Essex': 36, '15th Middlesex': 37, '15th Norfolk': 38, '15th Suffolk': 39, '15th Worcester': 40, '16th Essex': 41, '16th Middlesex': 42, '16th Suffolk': 43, '16th Worcester': 44, '17th Essex': 45, '17th Middlesex': 46, '17th Suffolk': 47, '17th Worcester': 48, '18th Essex': 49, '18th Middlesex': 50, '18th Suffolk': 51, '18th Worcester': 52, '19th Middlesex': 53, '19th Suffolk': 54, '1st Barnstable': 55, '1st Berkshire': 56, '1st Bristol': 57, '1st Essex': 58, '1st Franklin': 59, '1st Hampden': 60, '1st Hampshire': 61, '1st Middlesex': 62, '1st Norfolk': 63, '1st Plymouth': 64, '1st Suffolk': 65, '1st Worcester': 66, '20th Middlesex': 67, '21st Middlesex': 68, '22nd Middlesex': 69, '23rd Middlesex': 70, '24th Middlesex': 71, '25th Middlesex': 72, '26th Middlesex': 73, '27th Middlesex': 74, '28th Middlesex': 75, '29th Middlesex': 76, '2nd Barnstable': 77, '2nd Berkshire': 78, '2nd Bristol': 79, '2nd Essex': 80, '2nd Franklin': 81, '2nd Hampden': 82, '2nd Hampshire': 83, '2nd Middlesex': 84, '2nd Norfolk': 85, '2nd Plymouth': 86, '2nd Suffolk': 87, '2nd Worcester': 88, '30th Middlesex': 89, '31st Middlesex': 90, '32nd Middlesex': 91, '33rd Middlesex': 92, '34th Middlesex': 93, '35th Middlesex': 94, '36th Middlesex': 95, '37th Middlesex': 96, '3rd Barnstable': 97, '3rd Berkshire': 98, '3rd Bristol': 99, '3rd Essex': 100, '3rd Hampden': 101, '3rd Hampshire': 102, '3rd Middlesex': 103, '3rd Norfolk': 104, '3rd Plymouth': 105, '3rd Suffolk': 106, '3rd Worcester': 107, '4th Barnstable': 108, '4th Berkshire': 109, '4th Bristol': 110, '4th Essex': 111, '4th Hampden': 112, '4th Middlesex': 113, '4th Norfolk': 114, '4th Plymouth': 115, '4th Suffolk': 116, '4th Worcester': 117, '5th Barnstable': 118, '5th Bristol': 119, '5th Essex': 120, '5th Hampden': 121, '5th Middlesex': 122, '5th Norfolk': 123, '5th Plymouth': 124, '5th Suffolk': 125, '5th Worcester': 126, '6th Bristol': 127, '6th Essex': 128, '6th Hampden': 129, '6th Middlesex': 130, '6th Norfolk': 131, '6th Plymouth': 132, '6th Suffolk': 133, '6th Worcester': 134, '7th Bristol': 135, '7th Essex': 136, '7th Hampden': 137, '7th Middlesex': 138, '7th Norfolk': 139, '7th Plymouth': 140, '7th Suffolk': 141, '7th Worcester': 142, '8th Bristol': 143, '8th Essex': 144, '8th Hampden': 145, '8th Middlesex': 146, '8th Norfolk': 147, '8th Plymouth': 148, '8th Suffolk': 149, '8th Worcester': 150, '9th Bristol': 151, '9th Essex': 152, '9th Hampden': 153, '9th Middlesex': 154, '9th Norfolk': 155, '9th Plymouth': 156, '9th Suffolk': 157, '9th Worcester': 158, 'Barnstable, Dukes & Nantucket': 159}\n",
      "Logistic Regression: \n",
      "0.686046511628\n",
      "SVM: \n",
      "0.767441860465\n",
      "K-Nearest Neighbors: \n",
      "[0.72093023255813948, 0.76162790697674421, 0.70348837209302328, 0.75, 0.7441860465116279, 0.75, 0.73837209302325579, 0.76162790697674421, 0.76162790697674421, 0.76162790697674421, 0.7558139534883721, 0.76162790697674421, 0.76162790697674421, 0.76744186046511631, 0.76744186046511631]\n",
      "Decision Tree Classifier: \n",
      "(0.70930232558139539, 0.70930232558139539)\n",
      "OLS Logistic Regression: \n",
      "0.0348837209302\n"
     ]
    }
   ],
   "source": [
    "house_train_data, house_val_data, house_test_data = read_train_val_test(\"train_data/merged_house_districts_2009_2012.csv\", \"valid_data/merged_house_districts_2013_2014.csv\", \"test_data/merged_house_districts_2015_2016.csv\")\n",
    "enumerate_districts(house_train_data, \"House\")\n",
    "enumerate_districts(house_val_data, \"House\")\n",
    "enumerate_districts(house_test_data, \"House\")\n",
    "print(house_name_dict)\n",
    "    \n",
    "cleaned_train_house = clean_data(house_train_data,\"House\")\n",
    "cleaned_val_house = clean_data(house_val_data,\"House\")\n",
    "cleaned_test_house = clean_data(house_test_data,\"House\")\n",
    "\n",
    "print(\"Logistic Regression: \")\n",
    "print(classify_logistic_regression(cleaned_train_house, cleaned_val_house))\n",
    "print(\"SVM: \")\n",
    "print(classify_svm(cleaned_train_house, cleaned_val_house))\n",
    "print(\"K-Nearest Neighbors: \")\n",
    "print(classify_knn(cleaned_train_house, cleaned_val_house))\n",
    "print(\"Decision Tree Classifier: \")\n",
    "print(classify_dtc(cleaned_train_house, cleaned_val_house))\n",
    "print(\"OLS Logistic Regression: \")\n",
    "print(classify_ols(cleaned_train_house, cleaned_val_house))\n"
   ]
  },
  {
   "cell_type": "code",
   "execution_count": 307,
   "metadata": {},
   "outputs": [
    {
     "name": "stdout",
     "output_type": "stream",
     "text": [
      "Test Senate Decision Tree Classifier: \n",
      "Test accuracy: 0.7176470588235294\n",
      "(0.76829268292682928, 0.69512195121951215)\n"
     ]
    }
   ],
   "source": [
    "print(\"Test Senate Decision Tree Classifier: \")\n",
    "print(classify_dtc(cleaned_train_senate, cleaned_val_senate, cleaned_test_senate))"
   ]
  },
  {
   "cell_type": "code",
   "execution_count": 311,
   "metadata": {},
   "outputs": [
    {
     "name": "stdout",
     "output_type": "stream",
     "text": [
      "Test House KNN Classifier: \n",
      "Test accuracy: 0.7650602409638554\n",
      "[0.72093023255813948, 0.76162790697674421, 0.70348837209302328, 0.75, 0.7441860465116279, 0.75, 0.73837209302325579, 0.76162790697674421, 0.76162790697674421, 0.76162790697674421, 0.7558139534883721, 0.76162790697674421, 0.76162790697674421, 0.76744186046511631, 0.76744186046511631]\n"
     ]
    }
   ],
   "source": [
    "print(\"Test House KNN Classifier: \")\n",
    "print(classify_knn(cleaned_train_house, cleaned_val_house, cleaned_test_house))"
   ]
  },
  {
   "cell_type": "code",
   "execution_count": null,
   "metadata": {
    "collapsed": true
   },
   "outputs": [],
   "source": []
  }
 ],
 "metadata": {
  "kernelspec": {
   "display_name": "Python 3",
   "language": "python",
   "name": "python3"
  },
  "language_info": {
   "codemirror_mode": {
    "name": "ipython",
    "version": 3
   },
   "file_extension": ".py",
   "mimetype": "text/x-python",
   "name": "python",
   "nbconvert_exporter": "python",
   "pygments_lexer": "ipython3",
   "version": "3.6.1"
  }
 },
 "nbformat": 4,
 "nbformat_minor": 2
}
