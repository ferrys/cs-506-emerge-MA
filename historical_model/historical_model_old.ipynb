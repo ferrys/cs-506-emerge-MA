{
 "cells": [
  {
   "cell_type": "code",
   "execution_count": 1,
   "metadata": {},
   "outputs": [
    {
     "name": "stderr",
     "output_type": "stream",
     "text": [
      "C:\\ProgramData\\Anaconda3\\lib\\site-packages\\statsmodels\\compat\\pandas.py:56: FutureWarning: The pandas.core.datetools module is deprecated and will be removed in a future version. Please use the pandas.tseries module instead.\n",
      "  from pandas.core import datetools\n"
     ]
    }
   ],
   "source": [
    "import pandas as pd\n",
    "from sklearn.linear_model import LogisticRegression as LR\n",
    "from sklearn.metrics import accuracy_score\n",
    "from sklearn.svm import SVC\n",
    "from sklearn.neighbors import KNeighborsClassifier as KNN\n",
    "import numpy as np\n",
    "from sklearn.tree import DecisionTreeClassifier as DTC\n",
    "import statsmodels.api as sm\n",
    "from pandas.core import datetools"
   ]
  },
  {
   "cell_type": "code",
   "execution_count": 2,
   "metadata": {
    "collapsed": true
   },
   "outputs": [],
   "source": [
    "def read_train_val_test(train_path, val_path, test_path):\n",
    "    train_data = pd.read_csv(train_path).reset_index()\n",
    "    val_data = pd.read_csv(val_path).reset_index()\n",
    "    test_data = pd.read_csv(test_path).reset_index()\n",
    "    return train_data, val_data, test_data"
   ]
  },
  {
   "cell_type": "code",
   "execution_count": 3,
   "metadata": {
    "collapsed": true
   },
   "outputs": [],
   "source": [
    "senate_name_dict = {}\n",
    "house_name_dict = {}\n",
    "name_dict = {}\n",
    "def enumerate_districts(df, type=None):\n",
    "    names = df['District']\n",
    "    count = 0\n",
    "    for name in names:\n",
    "        if type == \"Senate\":\n",
    "            if name not in senate_name_dict:\n",
    "                senate_name_dict[name] = count\n",
    "                count += 1\n",
    "        elif type == \"House\":\n",
    "            if name not in house_name_dict:\n",
    "                house_name_dict[name] = count\n",
    "                count += 1\n",
    "        else:\n",
    "            if name not in name_dict:\n",
    "                name_dict[name] = count\n",
    "                count += 1"
   ]
  },
  {
   "cell_type": "code",
   "execution_count": 4,
   "metadata": {
    "collapsed": true
   },
   "outputs": [],
   "source": [
    "def replace_district(x, type=None):\n",
    "    if type == \"Senate\":\n",
    "        return senate_name_dict[x]\n",
    "    elif type == \"House\":\n",
    "        return house_name_dict[x]\n",
    "    else:\n",
    "        return name_dict[x]"
   ]
  },
  {
   "cell_type": "code",
   "execution_count": 5,
   "metadata": {
    "collapsed": true
   },
   "outputs": [],
   "source": [
    "def clean_data(df, type=None):\n",
    "    # make all text binary\n",
    "    df = df.drop(\"name\", axis=1)\n",
    "    df['sex'].replace('f', 1, inplace=True)\n",
    "    df['sex'].replace('m', 0, inplace=True)\n",
    "    df['party'].replace('Democratic', 1, inplace=True)\n",
    "    df['party'].replace('Republican', 0, inplace=True)\n",
    "    \n",
    "    # fill NaN's with mean from column\n",
    "    df['sex'] = df['sex'].fillna(round(df['sex'].mean()))\n",
    "    df['party'] = df['party'].fillna(df['party'].mean())\n",
    "    df['Amount'] = df['Amount'].fillna(df['Amount'].mean())\n",
    "    \n",
    "    df['vote_count'] = df['vote_count'].apply(lambda x: str(x).replace(\",\", \"\").replace('nan', 'NaN')).astype(float)\n",
    "    df['vote_count'] = df['vote_count'].fillna(df['vote_count'].mean())\n",
    "    df['vote_percent'] = df['vote_percent'].fillna(df['vote_percent'].mean())\n",
    "    df['District'] = df[\"District\"].apply(lambda x: replace_district(x, type))\n",
    "    \n",
    "    # add indicator for female democrat\n",
    "    df['female_dem'] = 0\n",
    "    for index, row in df.iterrows():\n",
    "        if row.sex == 1 and row.party == 1:\n",
    "            df.set_value(index, 'female_dem', 1)\n",
    "            \n",
    "    df = df.iloc[:, [index for index, x in enumerate(df.columns) if 'Margin' not in x]].set_index(\"index\")\n",
    "    \n",
    "    percent_cols = [col for index, col in enumerate(df.columns) if 'Percent' in col and df[col].mean() < 0.05]\n",
    "    for col in percent_cols:\n",
    "        df = df.drop(col, axis=1)\n",
    "        df = df.drop(col.replace(\"Percent\", \"Estimate\"), axis=1)\n",
    "        \n",
    "    df.to_csv(\"removed_columns.csv\", index=False)\n",
    "    return df"
   ]
  },
  {
   "cell_type": "code",
   "execution_count": 6,
   "metadata": {
    "collapsed": true
   },
   "outputs": [],
   "source": [
    "def classify_logistic_regression(train_df, val_df, test_df=None):\n",
    "    y_train = train_df['female_dem']\n",
    "    X_train = train_df.drop(['female_dem', 'party','sex'], axis=1)\n",
    "    \n",
    "    y_val = val_df['female_dem']\n",
    "    X_val = val_df.drop(['female_dem', 'party','sex'], axis=1)\n",
    "    \n",
    "    classifier = LR()\n",
    "    classifier.fit(X_train, y_train)\n",
    "    pred = classifier.predict_proba(X_val)\n",
    "    accuracy_pred = classifier.predict(X_val)\n",
    "    \n",
    "    if test_df is not None:\n",
    "        y_test = test_df['female_dem']\n",
    "        X_test = test_df.drop(['female_dem', 'party','sex'], axis=1)\n",
    "        test_pred = classifier.predict_proba(X_test)\n",
    "        accuracy_test_pred = classifier.predict(X_test)\n",
    "        print(\"Test accuracy: {}\".format(accuracy_score(y_test, accuracy_test_pred)))\n",
    "    \n",
    "    return accuracy_score(y_val, accuracy_pred)"
   ]
  },
  {
   "cell_type": "code",
   "execution_count": 7,
   "metadata": {
    "collapsed": true
   },
   "outputs": [],
   "source": [
    "def classify_svm(train_df, val_df, test_df=None):\n",
    "    y_train = train_df['sex']\n",
    "    X_train = train_df.drop('sex', axis=1)\n",
    "    \n",
    "    y_val = val_df['sex']\n",
    "    X_val = val_df.drop('sex', axis=1)\n",
    "    \n",
    "    classifier = SVC()\n",
    "    classifier.fit(X_train, y_train)\n",
    "    pred = classifier.predict(X_val)\n",
    "    \n",
    "    if test_df is not None:\n",
    "        y_test = test_df['sex']\n",
    "        X_test = test_df.drop('sex', axis=1)\n",
    "        test_pred = classifier.predict(X_test)\n",
    "        print(\"Test accuracy: {}\".format(accuracy_score(y_test, test_pred)))\n",
    "\n",
    "    return accuracy_score(y_val, pred)"
   ]
  },
  {
   "cell_type": "code",
   "execution_count": 8,
   "metadata": {
    "collapsed": true
   },
   "outputs": [],
   "source": [
    "def classify_knn(train_df, val_df, test_df=None):\n",
    "    y_train = train_df['sex']\n",
    "    X_train = train_df.drop('sex', axis=1)\n",
    "    \n",
    "    y_val = val_df['sex']\n",
    "    X_val = val_df.drop('sex', axis=1)\n",
    "    accuracy = [0]*15\n",
    "    for i in range(1, 16):\n",
    "        classifier = KNN(n_neighbors=i)\n",
    "        classifier.fit(X_train, y_train)\n",
    "        pred = classifier.predict(X_val)\n",
    "        accuracy[i-1] = accuracy_score(y_val, pred)\n",
    "        \n",
    "    if test_df is not None:\n",
    "        classifier = KNN(n_neighbors=accuracy.index(max(accuracy)))\n",
    "        classifier.fit(X_train, y_train)\n",
    "        \n",
    "        y_test = test_df['sex']\n",
    "        X_test = test_df.drop('sex', axis=1)\n",
    "        test_pred = classifier.predict(X_test)\n",
    "        print(\"Test accuracy: {}\".format(accuracy_score(y_test, test_pred)))\n",
    "    return accuracy"
   ]
  },
  {
   "cell_type": "code",
   "execution_count": 9,
   "metadata": {
    "collapsed": true
   },
   "outputs": [],
   "source": [
    "def classify_dtc(train_df, val_df, test_df=None):\n",
    "    y_train = train_df['sex']\n",
    "    X_train = train_df.drop('sex', axis=1)\n",
    "    \n",
    "    y_val = val_df['sex']\n",
    "    X_val = val_df.drop('sex', axis=1)\n",
    "    \n",
    "    classifier_gini = DTC(random_state=40)\n",
    "    classifier_entropy = DTC(criterion='entropy', random_state=40)\n",
    "    \n",
    "    classifier_gini.fit(X_train, y_train)\n",
    "    classifier_entropy.fit(X_train, y_train)\n",
    "    \n",
    "    pred_gini = classifier_gini.predict(X_val)\n",
    "    pred_entropy = classifier_entropy.predict(X_val)\n",
    "    \n",
    "    if test_df is not None:\n",
    "        y_test = test_df['sex']\n",
    "        X_test = test_df.drop('sex', axis=1)\n",
    "        test_pred = classifier_entropy.predict(X_test)\n",
    "        print(\"Test accuracy: {}\".format(accuracy_score(y_test, test_pred)))\n",
    "        \n",
    "    return accuracy_score(y_val, pred_gini), accuracy_score(y_val, pred_entropy)"
   ]
  },
  {
   "cell_type": "code",
   "execution_count": 10,
   "metadata": {
    "collapsed": true
   },
   "outputs": [],
   "source": [
    "def independent_columns(A, tol =0): #= 1e-05):\n",
    "    Q, R = np.linalg.qr(A)\n",
    "    independent = np.where(np.abs(R.diagonal()) > tol)[0]\n",
    "    \n",
    "    return independent"
   ]
  },
  {
   "cell_type": "code",
   "execution_count": 11,
   "metadata": {
    "collapsed": true
   },
   "outputs": [],
   "source": [
    "def classify_ols(train_df, val_df):\n",
    "    y_train = train_df['sex']\n",
    "    X_train = train_df.drop('sex', axis=1)\n",
    "    \n",
    "    y_val = val_df['sex']\n",
    "    X_val = val_df.drop('sex', axis=1)\n",
    "    \n",
    "    independent = independent_columns(X_train)\n",
    "    X_train = X_train.iloc[:, independent]\n",
    "    X_val = X_val.iloc[:, independent]\n",
    "    print(\"Rank is {}\".format(X_train.shape[1]))\n",
    "    X_train.to_csv(\"X_train.csv\")\n",
    "\n",
    "    classifier = sm.Logit(y_train, X_train)\n",
    "    results = classifier.fit(method='ncg')\n",
    "    pred = round(results.predict(X_val))\n",
    "    return accuracy_score(y_val, pred)"
   ]
  },
  {
   "cell_type": "code",
   "execution_count": 12,
   "metadata": {
    "collapsed": true
   },
   "outputs": [],
   "source": [
    "def classify_glm(train_df, val_df):\n",
    "    y_train = train_df['female_dem']\n",
    "    X_train = train_df.drop(['female_dem', 'party','sex'], axis=1)\n",
    "    \n",
    "    y_val = val_df['female_dem']\n",
    "    X_val = val_df.drop(['female_dem', 'party','sex'], axis=1)\n",
    "    \n",
    "    independent = independent_columns(X_train)\n",
    "    X_train = X_train.iloc[:, independent]\n",
    "    X_val = X_val.iloc[:, independent]\n",
    "    print(\"Rank is {}\".format(X_train.shape[1]))\n",
    "\n",
    "    classifier = sm.GLM(y_train, X_train)\n",
    "    results = classifier.fit()\n",
    "    print(results.summary())\n",
    "    pred = round(results.predict(X_val))\n",
    "    return accuracy_score(y_val, pred)"
   ]
  },
  {
   "cell_type": "code",
   "execution_count": 15,
   "metadata": {},
   "outputs": [
    {
     "name": "stdout",
     "output_type": "stream",
     "text": [
      "Logistic Regression: \n",
      "0.658536585366\n",
      "SVM: \n",
      "0.69512195122\n",
      "K-Nearest Neighbors: \n",
      "[0.56097560975609762, 0.68292682926829273, 0.56097560975609762, 0.67073170731707321, 0.65853658536585369, 0.69512195121951215, 0.68292682926829273, 0.67073170731707321, 0.65853658536585369, 0.69512195121951215, 0.69512195121951215, 0.69512195121951215, 0.69512195121951215, 0.69512195121951215, 0.69512195121951215]\n",
      "Decision Tree Classifier: \n",
      "(1.0, 1.0)\n"
     ]
    }
   ],
   "source": [
    "senate_train_data, senate_val_data, senate_test_data = read_train_val_test(\"train_data/merged_senate_districts_2009_2012.csv\", \"valid_data/merged_senate_districts_2013_2014.csv\", \"test_data/merged_senate_districts_2015_2016.csv\")\n",
    "enumerate_districts(senate_train_data, \"Senate\")\n",
    "enumerate_districts(senate_val_data, \"Senate\")\n",
    "enumerate_districts(senate_test_data, \"Senate\")\n",
    "    \n",
    "cleaned_train_senate = clean_data(senate_train_data,\"Senate\")\n",
    "cleaned_val_senate = clean_data(senate_val_data,\"Senate\")\n",
    "cleaned_test_senate = clean_data(senate_test_data,\"Senate\")\n",
    "\n",
    "print(\"Logistic Regression: \")\n",
    "print(classify_logistic_regression(cleaned_train_senate, cleaned_val_senate))\n",
    "print(\"SVM: \")\n",
    "print(classify_svm(cleaned_train_senate, cleaned_val_senate))\n",
    "print(\"K-Nearest Neighbors: \")\n",
    "print(classify_knn(cleaned_train_senate, cleaned_val_senate))\n",
    "print(\"Decision Tree Classifier: \")\n",
    "print(classify_dtc(cleaned_train_senate, cleaned_val_senate))\n",
    "# print(\"OLS Logistic Regression: \")\n",
    "# print(classify_ols(cleaned_train_senate, cleaned_val_senate))\n",
    "# print(\"OLS Generalized Linear Model: \")\n",
    "# print(classify_glm(cleaned_train_senate, cleaned_val_senate))"
   ]
  },
  {
   "cell_type": "code",
   "execution_count": 25,
   "metadata": {},
   "outputs": [
    {
     "name": "stderr",
     "output_type": "stream",
     "text": [
      "/Users/sarahferry/anaconda/lib/python3.6/site-packages/ipykernel_launcher.py:23: FutureWarning: set_value is deprecated and will be removed in a future release. Please use .at[] or .iat[] accessors instead\n"
     ]
    },
    {
     "name": "stdout",
     "output_type": "stream",
     "text": [
      "(325, 164)\n",
      "(172, 164)\n",
      "(166, 164)\n",
      "Logistic Regression: \n",
      "0.773255813953\n"
     ]
    }
   ],
   "source": [
    "house_train_data, house_val_data, house_test_data = read_train_val_test(\"train_data/merged_house_districts_2009_2012.csv\", \"valid_data/merged_house_districts_2013_2014.csv\", \"test_data/merged_house_districts_2015_2016.csv\")\n",
    "enumerate_districts(house_train_data, \"House\")\n",
    "enumerate_districts(house_val_data, \"House\")\n",
    "enumerate_districts(house_test_data, \"House\")\n",
    "    \n",
    "cleaned_train_house = clean_data(house_train_data,\"House\")\n",
    "cleaned_val_house = clean_data(house_val_data,\"House\")\n",
    "cleaned_test_house = clean_data(house_test_data,\"House\")\n",
    "\n",
    "print(\"Logistic Regression: \")\n",
    "print(classify_logistic_regression(cleaned_train_house, cleaned_val_house))\n",
    "# print(\"SVM: \")\n",
    "# print(classify_svm(cleaned_train_house, cleaned_val_house))\n",
    "# print(\"K-Nearest Neighbors: \")\n",
    "# print(classify_knn(cleaned_train_house, cleaned_val_house))\n",
    "# print(\"Decision Tree Classifier: \")\n",
    "# print(classify_dtc(cleaned_train_house, cleaned_val_house))\n",
    "# print(\"OLS Logistic Regression: \")\n",
    "# print(classify_ols(cleaned_train_house, cleaned_val_house))\n",
    "# print(\"OLS Generalized Linear Model: \")\n",
    "# print(classify_glm(cleaned_train_house, cleaned_val_house))"
   ]
  },
  {
   "cell_type": "code",
   "execution_count": 23,
   "metadata": {},
   "outputs": [
    {
     "name": "stderr",
     "output_type": "stream",
     "text": [
      "/Users/sarahferry/anaconda/lib/python3.6/site-packages/ipykernel_launcher.py:23: FutureWarning: set_value is deprecated and will be removed in a future release. Please use .at[] or .iat[] accessors instead\n"
     ]
    },
    {
     "name": "stdout",
     "output_type": "stream",
     "text": [
      "(415, 164)\n",
      "(254, 164)\n",
      "(166, 164)\n",
      "Logistic Regression: \n",
      "0.590551181102\n"
     ]
    }
   ],
   "source": [
    "merged_train = pd.concat([senate_train_data, house_train_data], axis=0)\n",
    "merged_val = pd.concat([senate_val_data, house_val_data], axis=0)\n",
    "merged_test = pd.concat([senate_test_data, house_test_data], axis=0)\n",
    "\n",
    "enumerate_districts(merged_train)\n",
    "enumerate_districts(merged_val)\n",
    "enumerate_districts(merged_test)\n",
    "    \n",
    "cleaned_train = clean_data(merged_train)\n",
    "cleaned_val = clean_data(merged_val)\n",
    "cleaned_test = clean_data(house_test_data)\n",
    "\n",
    "print(\"Logistic Regression: \")\n",
    "print(classify_logistic_regression(cleaned_train, cleaned_val))\n",
    "# print(\"SVM: \")\n",
    "# print(classify_svm(cleaned_train, cleaned_val))\n",
    "# print(\"K-Nearest Neighbors: \")\n",
    "# print(classify_knn(cleaned_train, cleaned_val))\n",
    "# print(\"Decision Tree Classifier: \")\n",
    "# print(classify_dtc(cleaned_train, cleaned_val))\n",
    "# print(\"OLS Logistic Regression: \")\n",
    "# print(classify_ols(cleaned_train, cleaned_val))\n",
    "# print(\"OLS Generalized Linear Model: \")\n",
    "# print(classify_glm(cleaned_train, cleaned_val))\n"
   ]
  },
  {
   "cell_type": "code",
   "execution_count": 27,
   "metadata": {},
   "outputs": [
    {
     "name": "stdout",
     "output_type": "stream",
     "text": [
      "Test Senate Logisitic Regression Classifier: \n",
      "[[  9.99965390e-01   3.46099948e-05]\n",
      " [  6.37149962e-03   9.93628500e-01]\n",
      " [  6.37149962e-03   9.93628500e-01]\n",
      " [  9.88530634e-01   1.14693664e-02]\n",
      " [  9.88530634e-01   1.14693664e-02]\n",
      " [  1.57166108e-02   9.84283389e-01]\n",
      " [  3.89462606e-02   9.61053739e-01]\n",
      " [  1.57166108e-02   9.84283389e-01]\n",
      " [  3.89462606e-02   9.61053739e-01]\n",
      " [  9.99999999e-01   5.15041153e-10]\n",
      " [  9.99999999e-01   5.15041153e-10]\n",
      " [  2.90487903e-06   9.99997095e-01]\n",
      " [  2.90487903e-06   9.99997095e-01]\n",
      " [  9.95303352e-01   4.69664764e-03]\n",
      " [  9.95303352e-01   4.69664764e-03]\n",
      " [  1.74324351e-06   9.99998257e-01]\n",
      " [  1.74324351e-06   9.99998257e-01]\n",
      " [  9.26194287e-08   9.99999907e-01]\n",
      " [  9.26194287e-08   9.99999907e-01]\n",
      " [  5.33283046e-01   4.66716954e-01]\n",
      " [  5.33283046e-01   4.66716954e-01]\n",
      " [  9.99726419e-01   2.73581353e-04]\n",
      " [  9.99726419e-01   2.73581353e-04]\n",
      " [  9.99889705e-01   1.10295457e-04]\n",
      " [  9.99961645e-01   3.83548385e-05]\n",
      " [  9.99961645e-01   3.83548385e-05]\n",
      " [  9.99999941e-01   5.94749080e-08]\n",
      " [  9.99999941e-01   5.94749080e-08]\n",
      " [  1.06890734e-02   9.89310927e-01]\n",
      " [  1.06890734e-02   9.89310927e-01]\n",
      " [  9.34796475e-01   6.52035253e-02]\n",
      " [  9.34796475e-01   6.52035253e-02]\n",
      " [  9.99996986e-01   3.01439932e-06]\n",
      " [  9.99996986e-01   3.01439932e-06]\n",
      " [  9.22305166e-01   7.76948343e-02]\n",
      " [  9.22305166e-01   7.76948343e-02]\n",
      " [  1.00000000e+00   6.34448926e-17]\n",
      " [  1.00000000e+00   6.34448926e-17]\n",
      " [  1.00000000e+00   1.24765142e-12]\n",
      " [  1.00000000e+00   1.24765142e-12]\n",
      " [  4.27633647e-01   5.72366353e-01]\n",
      " [  4.27633647e-01   5.72366353e-01]\n",
      " [  9.99999640e-01   3.60008101e-07]\n",
      " [  9.99999640e-01   3.60008101e-07]\n",
      " [  9.99771171e-01   2.28828944e-04]\n",
      " [  9.99771171e-01   2.28828944e-04]\n",
      " [  9.60376839e-01   3.96231611e-02]\n",
      " [  9.60376839e-01   3.96231611e-02]\n",
      " [  5.23410580e-06   9.99994766e-01]\n",
      " [  5.23410580e-06   9.99994766e-01]\n",
      " [  9.90814626e-01   9.18537390e-03]\n",
      " [  9.90814626e-01   9.18537390e-03]\n",
      " [  4.16139717e-04   9.99583860e-01]\n",
      " [  4.16139717e-04   9.99583860e-01]\n",
      " [  6.65961774e-04   9.99334038e-01]\n",
      " [  6.65961774e-04   9.99334038e-01]\n",
      " [  9.99319464e-01   6.80536148e-04]\n",
      " [  9.99319464e-01   6.80536148e-04]\n",
      " [  1.01668118e-01   8.98331882e-01]\n",
      " [  1.46895987e-01   8.53104013e-01]\n",
      " [  1.46895987e-01   8.53104013e-01]\n",
      " [  1.77776944e-01   8.22223056e-01]\n",
      " [  1.77776944e-01   8.22223056e-01]\n",
      " [  9.99999934e-01   6.56759502e-08]\n",
      " [  9.99999934e-01   6.56759502e-08]\n",
      " [  9.08198814e-01   9.18011858e-02]\n",
      " [  9.08198814e-01   9.18011858e-02]\n",
      " [  6.14865143e-02   9.38513486e-01]\n",
      " [  6.14865143e-02   9.38513486e-01]\n",
      " [  9.99999998e-01   1.71593375e-09]\n",
      " [  9.99999998e-01   1.71593375e-09]\n",
      " [  9.99999999e-01   5.73202290e-10]\n",
      " [  9.99994457e-01   5.54343329e-06]\n",
      " [  9.99994457e-01   5.54343329e-06]\n",
      " [  2.06385717e-02   9.79361428e-01]\n",
      " [  2.06385717e-02   9.79361428e-01]\n",
      " [  1.37451986e-07   9.99999863e-01]\n",
      " [  1.37451986e-07   9.99999863e-01]\n",
      " [  9.98545441e-01   1.45455901e-03]\n",
      " [  9.98545441e-01   1.45455901e-03]\n",
      " [  3.15357589e-02   9.68464241e-01]\n",
      " [  3.15357589e-02   9.68464241e-01]]\n",
      "[[  3.28723843e-01   6.71276157e-01]\n",
      " [  6.09805065e-05   9.99939019e-01]\n",
      " [  1.51217717e-04   9.99848782e-01]\n",
      " [  9.47798884e-01   5.22011155e-02]\n",
      " [  1.00000000e+00   7.52324966e-13]\n",
      " [  2.29715713e-01   7.70284287e-01]\n",
      " [  1.41277349e-01   8.58722651e-01]\n",
      " [  6.03600347e-09   9.99999994e-01]\n",
      " [  1.53471398e-07   9.99999847e-01]\n",
      " [  9.42012364e-03   9.90579876e-01]\n",
      " [  9.99575702e-01   4.24297714e-04]\n",
      " [  9.45988441e-01   5.40115590e-02]\n",
      " [  1.00000000e+00   1.51372603e-13]\n",
      " [  1.00000000e+00   1.23613621e-12]\n",
      " [  1.20018778e-02   9.87998122e-01]\n",
      " [  9.99627382e-01   3.72618069e-04]\n",
      " [  9.99993842e-01   6.15783694e-06]\n",
      " [  2.13305216e-01   7.86694784e-01]\n",
      " [  1.00000000e+00   1.19936798e-17]\n",
      " [  9.99999998e-01   1.82076052e-09]\n",
      " [  9.99999984e-01   1.63761430e-08]\n",
      " [  9.99192433e-01   8.07567297e-04]\n",
      " [  9.99790669e-01   2.09330740e-04]\n",
      " [  2.16769737e-03   9.97832303e-01]\n",
      " [  7.40209671e-10   9.99999999e-01]\n",
      " [  9.63115313e-03   9.90368847e-01]\n",
      " [  1.48761891e-03   9.98512381e-01]\n",
      " [  8.88178420e-16   1.00000000e+00]\n",
      " [  1.65101119e-01   8.34898881e-01]\n",
      " [  4.86805581e-01   5.13194419e-01]\n",
      " [  4.46101403e-04   9.99553899e-01]\n",
      " [  1.62620994e-04   9.99837379e-01]\n",
      " [  1.00000000e+00   3.41732115e-11]\n",
      " [  1.04552215e-05   9.99989545e-01]\n",
      " [  6.41881633e-05   9.99935812e-01]\n",
      " [  9.99999172e-01   8.27656765e-07]\n",
      " [  9.99999893e-01   1.07203272e-07]\n",
      " [  1.00000000e+00   2.97208228e-10]\n",
      " [  9.90296858e-01   9.70314151e-03]\n",
      " [  2.97871191e-07   9.99999702e-01]\n",
      " [  5.69483507e-07   9.99999431e-01]\n",
      " [  4.83373813e-02   9.51662619e-01]\n",
      " [  8.33135783e-11   1.00000000e+00]]\n"
     ]
    },
    {
     "ename": "TypeError",
     "evalue": "type numpy.ndarray doesn't define __round__ method",
     "output_type": "error",
     "traceback": [
      "\u001b[0;31m---------------------------------------------------------------------------\u001b[0m",
      "\u001b[0;31mTypeError\u001b[0m                                 Traceback (most recent call last)",
      "\u001b[0;32m<ipython-input-27-ff4e9daa2621>\u001b[0m in \u001b[0;36m<module>\u001b[0;34m()\u001b[0m\n\u001b[1;32m      1\u001b[0m \u001b[0mprint\u001b[0m\u001b[0;34m(\u001b[0m\u001b[0;34m\"Test Senate Logisitic Regression Classifier: \"\u001b[0m\u001b[0;34m)\u001b[0m\u001b[0;34m\u001b[0m\u001b[0m\n\u001b[0;32m----> 2\u001b[0;31m \u001b[0mprint\u001b[0m\u001b[0;34m(\u001b[0m\u001b[0mclassify_logistic_regression\u001b[0m\u001b[0;34m(\u001b[0m\u001b[0mcleaned_train_senate\u001b[0m\u001b[0;34m,\u001b[0m \u001b[0mcleaned_val_senate\u001b[0m\u001b[0;34m,\u001b[0m \u001b[0mcleaned_test_senate\u001b[0m\u001b[0;34m)\u001b[0m\u001b[0;34m)\u001b[0m\u001b[0;34m\u001b[0m\u001b[0m\n\u001b[0m",
      "\u001b[0;32m<ipython-input-26-518981415a6d>\u001b[0m in \u001b[0;36mclassify_logistic_regression\u001b[0;34m(train_df, val_df, test_df)\u001b[0m\n\u001b[1;32m     16\u001b[0m         \u001b[0mtest_pred\u001b[0m \u001b[0;34m=\u001b[0m \u001b[0mclassifier\u001b[0m\u001b[0;34m.\u001b[0m\u001b[0mpredict_proba\u001b[0m\u001b[0;34m(\u001b[0m\u001b[0mX_test\u001b[0m\u001b[0;34m)\u001b[0m\u001b[0;34m\u001b[0m\u001b[0m\n\u001b[1;32m     17\u001b[0m         \u001b[0mprint\u001b[0m\u001b[0;34m(\u001b[0m\u001b[0mtest_pred\u001b[0m\u001b[0;34m)\u001b[0m\u001b[0;34m\u001b[0m\u001b[0m\n\u001b[0;32m---> 18\u001b[0;31m         \u001b[0mprint\u001b[0m\u001b[0;34m(\u001b[0m\u001b[0;34m\"Test accuracy: {}\"\u001b[0m\u001b[0;34m.\u001b[0m\u001b[0mformat\u001b[0m\u001b[0;34m(\u001b[0m\u001b[0maccuracy_score\u001b[0m\u001b[0;34m(\u001b[0m\u001b[0my_test\u001b[0m\u001b[0;34m,\u001b[0m \u001b[0mround\u001b[0m\u001b[0;34m(\u001b[0m\u001b[0mtest_pred\u001b[0m\u001b[0;34m)\u001b[0m\u001b[0;34m)\u001b[0m\u001b[0;34m)\u001b[0m\u001b[0;34m)\u001b[0m\u001b[0;34m\u001b[0m\u001b[0m\n\u001b[0m\u001b[1;32m     19\u001b[0m \u001b[0;34m\u001b[0m\u001b[0m\n\u001b[1;32m     20\u001b[0m     \u001b[0;32mreturn\u001b[0m \u001b[0maccuracy_score\u001b[0m\u001b[0;34m(\u001b[0m\u001b[0my_val\u001b[0m\u001b[0;34m,\u001b[0m \u001b[0mround\u001b[0m\u001b[0;34m(\u001b[0m\u001b[0mpred\u001b[0m\u001b[0;34m)\u001b[0m\u001b[0;34m)\u001b[0m\u001b[0;34m\u001b[0m\u001b[0m\n",
      "\u001b[0;31mTypeError\u001b[0m: type numpy.ndarray doesn't define __round__ method"
     ]
    }
   ],
   "source": [
    "print(\"Test Senate Logisitic Regression Classifier: \")\n",
    "print(classify_logistic_regression(cleaned_train_senate, cleaned_val_senate, cleaned_test_senate))"
   ]
  },
  {
   "cell_type": "code",
   "execution_count": 17,
   "metadata": {},
   "outputs": [
    {
     "name": "stdout",
     "output_type": "stream",
     "text": [
      "Test House KNN Classifier: \n",
      "Test accuracy: 0.7650602409638554\n",
      "[0.71511627906976749, 0.7558139534883721, 0.69767441860465118, 0.75, 0.7441860465116279, 0.7558139534883721, 0.73837209302325579, 0.76162790697674421, 0.7558139534883721, 0.76162790697674421, 0.7558139534883721, 0.76162790697674421, 0.76162790697674421, 0.76744186046511631, 0.76744186046511631]\n"
     ]
    }
   ],
   "source": [
    "print(\"Test House KNN Classifier: \")\n",
    "print(classify_knn(cleaned_train_house, cleaned_val_house, cleaned_test_house))"
   ]
  },
  {
   "cell_type": "code",
   "execution_count": null,
   "metadata": {
    "collapsed": true
   },
   "outputs": [],
   "source": []
  },
  {
   "cell_type": "code",
   "execution_count": null,
   "metadata": {
    "collapsed": true
   },
   "outputs": [],
   "source": []
  }
 ],
 "metadata": {
  "kernelspec": {
   "display_name": "Python 3",
   "language": "python",
   "name": "python3"
  },
  "language_info": {
   "codemirror_mode": {
    "name": "ipython",
    "version": 3
   },
   "file_extension": ".py",
   "mimetype": "text/x-python",
   "name": "python",
   "nbconvert_exporter": "python",
   "pygments_lexer": "ipython3",
   "version": "3.6.1"
  }
 },
 "nbformat": 4,
 "nbformat_minor": 2
}
