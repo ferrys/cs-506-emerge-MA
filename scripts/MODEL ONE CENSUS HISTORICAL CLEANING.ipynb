{
 "cells": [
  {
   "cell_type": "code",
   "execution_count": 6,
   "metadata": {
    "collapsed": true
   },
   "outputs": [],
   "source": [
    "import pandas as pd"
   ]
  },
  {
   "cell_type": "code",
   "execution_count": 40,
   "metadata": {
    "collapsed": false
   },
   "outputs": [],
   "source": [
    "def census_demo_clean(file):\n",
    "    df2 = pd.read_csv('MODEL_ONE_Census_2010-2015/onlydata.csv', header=None)\n",
    "    senate_districts = df2[0].tolist()\n",
    "    senate_districts = senate_districts[:-1]\n",
    "    for i in range(len(senate_districts)):\n",
    "        temp_str = senate_districts[i]\n",
    "        senate_districts[i] = temp_str[4:]\n",
    "    census_senate = pd.read_csv(file, skiprows=1)\n",
    "\n",
    "    census_senate['Geography'] = census_senate['Geography'].apply(lambda x: x.split(\"(\")[0])\n",
    "    census_senate['Geography'] = census_senate['Geography'].apply(lambda x: x.split(\"District\")[0])\n",
    "\n",
    "    return census_senate\n",
    "    "
   ]
  },
  {
   "cell_type": "code",
   "execution_count": 42,
   "metadata": {
    "collapsed": false
   },
   "outputs": [
    {
     "name": "stdout",
     "output_type": "stream",
     "text": [
      "final_census_senate_2014 is written\n",
      "final_census_senate_2014 is written\n",
      "final_census_senate_2014 is written\n",
      "final_census_senate_2014 is written\n",
      "final_census_senate_2014 is written\n",
      "final_census_senate_2014 is written\n"
     ]
    }
   ],
   "source": [
    "census_senate = census_demo_clean(\"MODEL_ONE_Census_2010-2015/Senate/2015/Census_2015_demo.csv\")\n",
    "census_senate.to_csv('MODEL_ONE_Census_2010-2015/Senate/2015/final_census_senate_2015.csv')\n",
    "print(\"final_census_senate_2014 is written\")\n",
    "\n",
    "census_senate1 = census_demo_clean(\"MODEL_ONE_Census_2010-2015/Senate/2014/Census_2014_demo.csv\")\n",
    "census_senate1.to_csv('MODEL_ONE_Census_2010-2015/Senate/2014/final_census_senate_2014.csv')\n",
    "print(\"final_census_senate_2014 is written\")\n",
    "\n",
    "census_senate2 = census_demo_clean(\"MODEL_ONE_Census_2010-2015/Senate/2013/Census_2013_demo.csv\")\n",
    "census_senate2.to_csv('MODEL_ONE_Census_2010-2015/Senate/2013/final_census_senate_2013.csv')\n",
    "print(\"final_census_senate_2014 is written\")\n",
    "\n",
    "census_senate3 = census_demo_clean(\"MODEL_ONE_Census_2010-2015/Senate/2012/Census_2012_demo.csv\")\n",
    "census_senate3.to_csv('MODEL_ONE_Census_2010-2015/Senate/2012/final_census_senate_2012.csv')\n",
    "print(\"final_census_senate_2014 is written\")\n",
    "\n",
    "census_senate4 = census_demo_clean(\"MODEL_ONE_Census_2010-2015/Senate/2011/Census_2011_demo.csv\")\n",
    "census_senate4.to_csv('MODEL_ONE_Census_2010-2015/Senate/2011/final_census_senate_2011.csv')\n",
    "print(\"final_census_senate_2014 is written\")\n",
    "\n",
    "census_senate5 = census_demo_clean(\"MODEL_ONE_Census_2010-2015/Senate/2010/Census_2010_demo.csv\")\n",
    "census_senate5.to_csv('MODEL_ONE_Census_2010-2015/Senate/2010/final_census_senate_2010.csv')\n",
    "print(\"final_census_senate_2014 is written\")"
   ]
  },
  {
   "cell_type": "code",
   "execution_count": 37,
   "metadata": {
    "collapsed": false
   },
   "outputs": [],
   "source": [
    "import math\n",
    "def census_house_demo(file, year):\n",
    "    ordinal = lambda n: \"%d%s\" % (n,\"tsnrhtdd\"[(math.floor(n/10)%10!=1)*(n%10<4)*n%10::4])\n",
    "    dumb_list = [ordinal(n) for n in range(0,38)]\n",
    "    titles = ['Zeroth', 'First', 'Second', 'Third', 'Fourth', 'Fifth', 'Sixth', 'Seventh', 'Eighth', 'Ninth',\\\n",
    "             'Tenth', 'Eleventh', 'Twelfth', 'Thirteenth', 'Fourteenth', 'Fifteenth', 'Sixteenth', 'Seventeenth',\\\n",
    "             'Eighteenth', 'Nineteenth', 'Twentieth', 'Twenty-First', 'Twenty-Second', 'Twenty-Third', 'Twenty-Fourth',\\\n",
    "             'Twenty-Fifth', 'Twenty-Sixth', 'Twenty-Seventh', 'Twenty-Eighth', 'Twenty-Ninth', 'Thirtieth',\\\n",
    "             'Thirty-First', 'Thirty-Second', 'Thirty-Third', 'Thirty-Fourth', 'Thirty-Fifth', 'Thirty-Sixth',\\\n",
    "             'Thirty-Seventh'] \n",
    "    ind=None\n",
    "    df3 = pd.read_csv('MODEL_ONE_Census_2010-2015/onlydatahouse.csv', header=None)\n",
    "    for index, row in df3.iterrows():\n",
    "        if row[0] == '005 Fifth Barnstable':\n",
    "            ind = index\n",
    "    df3 = df3.drop([ind], axis=0)\n",
    "    house_districts = df3[0].tolist()\n",
    "    house_districts = house_districts [:-1]\n",
    "    for i in range(len(house_districts)):\n",
    "        temp_str = house_districts[i]\n",
    "        house_districts[i] = temp_str[4:]\n",
    "    census_house = pd.read_csv(file, skiprows=1)\n",
    "    census_house['Geography'] = census_house['Geography'].apply(lambda x: x.split(\" District\")[0])\n",
    "\n",
    "\n",
    "    if year == \"2011\" or year == \"2010\":\n",
    "        for i in range(len(dumb_list)):\n",
    "            census_house['Geography'] = census_house['Geography'].apply(lambda x: x.replace(titles[i], dumb_list[i]) \\\n",
    "                                                                        if x.split()[0] == titles[i] else x)\n",
    "        \n",
    "        \n",
    "    \n",
    "#     if year == \"2014\" or year == \"2013\" or year == \"2012\":\n",
    "#         for i in range(len(house_districts)):\n",
    "#             splitter = house_districts[i].split(\" \")\n",
    "#             if splitter[0] == 'Barnstable':\n",
    "#                 continue\n",
    "#             if splitter[0] == 'First':\n",
    "#                 splitter[0] = dumb_list[1]\n",
    "#             elif splitter[0] == 'Second':\n",
    "#                 splitter[0] = dumb_list[2]\n",
    "#             elif splitter[0] == 'Third':\n",
    "#                 splitter[0] = dumb_list[3]\n",
    "#             elif splitter[0] == 'Fourth':\n",
    "#                 splitter[0] = dumb_list[4]\n",
    "#             elif splitter[0] == 'Fifth':\n",
    "#                 splitter[0] = dumb_list[5]\n",
    "#             elif splitter[0] == 'Sixth':\n",
    "#                 splitter[0] = dumb_list[6]\n",
    "#             elif splitter[0] == 'Seventh':\n",
    "#                 splitter[0] = dumb_list[7]\n",
    "#             elif splitter[0] == 'Eighth':\n",
    "#                 splitter[0] = dumb_list[8]\n",
    "#             elif splitter[0] == 'Ninth':\n",
    "#                 splitter[0] = dumb_list[9]\n",
    "#             elif splitter[0] == 'Tenth':\n",
    "#                 splitter[0] = dumb_list[10]\n",
    "#             elif splitter[0] == 'Eleventh':\n",
    "#                 splitter[0] = dumb_list[11]\n",
    "#             elif splitter[0] == 'Twelfth':\n",
    "#                 splitter[0] = dumb_list[12]\n",
    "#             elif splitter[0] == 'Thirteenth':\n",
    "#                 splitter[0] = dumb_list[13]\n",
    "#             elif splitter[0] == 'Fourteenth':\n",
    "#                 splitter[0] = dumb_list[14]\n",
    "#             elif splitter[0] == 'Fifteenth':\n",
    "#                 splitter[0] = dumb_list[15]\n",
    "#             elif splitter[0] == 'Sixteenth':\n",
    "#                 splitter[0] = dumb_list[16]\n",
    "#             elif splitter[0] == 'Seventeenth':\n",
    "#                 splitter[0] = dumb_list[17]\n",
    "#             elif splitter[0] == 'Eighteenth':\n",
    "#                 splitter[0] = dumb_list[18]\n",
    "#             elif splitter[0] == 'Nineteenth':\n",
    "#                 splitter[0] = dumb_list[19]\n",
    "#             elif splitter[0] == 'Twentieth':\n",
    "#                 splitter[0] = dumb_list[20]\n",
    "#             elif splitter[0] == 'Twenty-First':\n",
    "#                 splitter[0] = dumb_list[21]\n",
    "#             elif splitter[0] == 'Twenty-Second':\n",
    "#                 splitter[0] = dumb_list[22]\n",
    "\n",
    "#             district = ''\n",
    "#             for j in range(len(splitter)):\n",
    "#                 if j != len(splitter)-1:\n",
    "#                     district += splitter[j]+\" \"\n",
    "#                 else:\n",
    "#                     district += splitter[j]\n",
    "#             house_districts[i] = district\n",
    "    \n",
    "\n",
    "    return census_house"
   ]
  },
  {
   "cell_type": "code",
   "execution_count": 38,
   "metadata": {
    "collapsed": false
   },
   "outputs": [
    {
     "name": "stdout",
     "output_type": "stream",
     "text": [
      "final_census_house is written\n",
      "final_census_house is written\n",
      "final_census_house is written\n",
      "final_census_house is written\n",
      "final_census_house is written\n",
      "final_census_house is written\n"
     ]
    }
   ],
   "source": [
    "census_house = census_house_demo(\"MODEL_ONE_Census_2010-2015/House/2015/Census_2015_demo.csv\", \"2015\")\n",
    "census_house.to_csv('MODEL_ONE_Census_2010-2015/House/2015/final_census_house_2015.csv')\n",
    "print(\"final_census_house is written\")\n",
    "\n",
    "census_house1 = census_house_demo(\"MODEL_ONE_Census_2010-2015/House/2014/Census_2014_demo.csv\", \"2014\")\n",
    "census_house1.to_csv('MODEL_ONE_Census_2010-2015/House/2014/final_census_house_2014.csv')\n",
    "print(\"final_census_house is written\")\n",
    "\n",
    "census_house2 = census_house_demo(\"MODEL_ONE_Census_2010-2015/House/2013/Census_2013_demo.csv\", \"2013\")\n",
    "census_house2.to_csv('MODEL_ONE_Census_2010-2015/House/2013/final_census_house_2013.csv')\n",
    "print(\"final_census_house is written\")\n",
    "\n",
    "census_house3 = census_house_demo(\"MODEL_ONE_Census_2010-2015/House/2012/Census_2012_demo.csv\", \"2012\")\n",
    "census_house3.to_csv('MODEL_ONE_Census_2010-2015/House/2012/final_census_house_2012.csv')\n",
    "print(\"final_census_house is written\")\n",
    "\n",
    "census_house4 = census_house_demo(\"MODEL_ONE_Census_2010-2015/House/2011/Census_2011_demo.csv\", \"2011\")\n",
    "census_house4.to_csv('MODEL_ONE_Census_2010-2015/House/2011/final_census_house_2011.csv')\n",
    "print(\"final_census_house is written\")\n",
    "\n",
    "census_house5 = census_house_demo(\"MODEL_ONE_Census_2010-2015/House/2010/Census_2010_demo.csv\", \"2010\")\n",
    "census_house5.to_csv('MODEL_ONE_Census_2010-2015/House/2010/final_census_house_2010.csv')\n",
    "print(\"final_census_house is written\")"
   ]
  },
  {
   "cell_type": "code",
   "execution_count": 13,
   "metadata": {
    "collapsed": false
   },
   "outputs": [],
   "source": [
    "def census_senate_money(file):\n",
    "    df4 = pd.read_csv('MODEL_ONE_Census_2010-2015/onlydata.csv', header=None)\n",
    "    senate_districts = df4[0].tolist()\n",
    "    senate_districts = senate_districts[:-1]\n",
    "    for i in range(len(senate_districts)):\n",
    "        temp_str = senate_districts[i]\n",
    "        senate_districts[i] = temp_str[4:]\n",
    "    census_senate_income = pd.read_csv(file, skiprows=1)\n",
    "\n",
    "\n",
    "    census_senate_income['Geography'] = census_senate_income['Geography'].apply(lambda x: x.split(\"(\")[0])\n",
    "    census_senate_income['Geography'] = census_senate_income['Geography'].apply(lambda x: x.split(\"District\")[0])\n",
    "\n",
    "    return census_senate_income\n",
    "    "
   ]
  },
  {
   "cell_type": "code",
   "execution_count": 9,
   "metadata": {
    "collapsed": false
   },
   "outputs": [
    {
     "ename": "NameError",
     "evalue": "name 'census_senate_money' is not defined",
     "output_type": "error",
     "traceback": [
      "\u001b[0;31m---------------------------------------------------------------------------\u001b[0m",
      "\u001b[0;31mNameError\u001b[0m                                 Traceback (most recent call last)",
      "\u001b[0;32m<ipython-input-9-37b9ecf25670>\u001b[0m in \u001b[0;36m<module>\u001b[0;34m()\u001b[0m\n\u001b[0;32m----> 1\u001b[0;31m \u001b[0mcensus_senate_income\u001b[0m \u001b[0;34m=\u001b[0m \u001b[0mcensus_senate_money\u001b[0m\u001b[0;34m(\u001b[0m\u001b[0;34m\"MODEL_ONE_Census_2010-2015/Senate/2015/Census_2015_income.csv\"\u001b[0m\u001b[0;34m)\u001b[0m\u001b[0;34m\u001b[0m\u001b[0m\n\u001b[0m\u001b[1;32m      2\u001b[0m \u001b[0mcensus_senate_income\u001b[0m\u001b[0;34m.\u001b[0m\u001b[0mto_csv\u001b[0m\u001b[0;34m(\u001b[0m\u001b[0;34m'MODEL_ONE_Census_2010-2015/Senate/2015/final_census_senate_income_2015.csv'\u001b[0m\u001b[0;34m)\u001b[0m\u001b[0;34m\u001b[0m\u001b[0m\n\u001b[1;32m      3\u001b[0m \u001b[0mprint\u001b[0m\u001b[0;34m(\u001b[0m\u001b[0;34m\"final_census_senate_income is written\"\u001b[0m\u001b[0;34m)\u001b[0m\u001b[0;34m\u001b[0m\u001b[0m\n\u001b[1;32m      4\u001b[0m \u001b[0;34m\u001b[0m\u001b[0m\n\u001b[1;32m      5\u001b[0m \u001b[0mcensus_senate_income1\u001b[0m \u001b[0;34m=\u001b[0m \u001b[0mcensus_senate_money\u001b[0m\u001b[0;34m(\u001b[0m\u001b[0;34m\"MODEL_ONE_Census_2010-2015/Senate/2014/Census_2014_income.csv\"\u001b[0m\u001b[0;34m)\u001b[0m\u001b[0;34m\u001b[0m\u001b[0m\n",
      "\u001b[0;31mNameError\u001b[0m: name 'census_senate_money' is not defined"
     ]
    }
   ],
   "source": [
    "census_senate_income = census_senate_money(\"MODEL_ONE_Census_2010-2015/Senate/2015/Census_2015_income.csv\")\n",
    "census_senate_income.to_csv('MODEL_ONE_Census_2010-2015/Senate/2015/final_census_senate_income_2015.csv')\n",
    "print(\"final_census_senate_income is written\") \n",
    "\n",
    "census_senate_income1 = census_senate_money(\"MODEL_ONE_Census_2010-2015/Senate/2014/Census_2014_income.csv\")\n",
    "census_senate_income1.to_csv('MODEL_ONE_Census_2010-2015/Senate/2014/final_census_senate_income_2014.csv')\n",
    "print(\"final_census_senate_income is written\") \n",
    "\n",
    "census_senate_income2 = census_senate_money(\"MODEL_ONE_Census_2010-2015/Senate/2013/Census_2013_income.csv\")\n",
    "census_senate_income2.to_csv('MODEL_ONE_Census_2010-2015/Senate/2013/final_census_senate_income_2013.csv')\n",
    "print(\"final_census_senate_income is written\") \n",
    "\n",
    "census_senate_income3 = census_senate_money(\"MODEL_ONE_Census_2010-2015/Senate/2012/Census_2012_income.csv\")\n",
    "census_senate_income3.to_csv('MODEL_ONE_Census_2010-2015/Senate/2012/final_census_senate_income_2012.csv')\n",
    "print(\"final_census_senate_income is written\") \n",
    "\n",
    "census_senate_income4 = census_senate_money(\"MODEL_ONE_Census_2010-2015/Senate/2011/Census_2011_income.csv\")\n",
    "census_senate_income4.to_csv('MODEL_ONE_Census_2010-2015/Senate/2011/final_census_senate_income_2011.csv')\n",
    "print(\"final_census_senate_income is written\") \n",
    "\n",
    "census_senate_income5 = census_senate_money(\"MODEL_ONE_Census_2010-2015/Senate/2010/Census_2010_income.csv\")\n",
    "census_senate_income5.to_csv('MODEL_ONE_Census_2010-2015/Senate/2010/final_census_senate_income_2010.csv')\n",
    "print(\"final_census_senate_income is written\") "
   ]
  },
  {
   "cell_type": "code",
   "execution_count": 43,
   "metadata": {
    "collapsed": false
   },
   "outputs": [],
   "source": [
    "def census_house_money(file, year):\n",
    "    ordinal = lambda n: \"%d%s\" % (n,\"tsnrhtdd\"[(math.floor(n/10)%10!=1)*(n%10<4)*n%10::4])\n",
    "    dumb_list = [ordinal(n) for n in range(0,38)]\n",
    "    titles = ['Zeroth', 'First', 'Second', 'Third', 'Fourth', 'Fifth', 'Sixth', 'Seventh', 'Eighth', 'Ninth',\\\n",
    "             'Tenth', 'Eleventh', 'Twelfth', 'Thirteenth', 'Fourteenth', 'Fifteenth', 'Sixteenth', 'Seventeenth',\\\n",
    "             'Eighteenth', 'Nineteenth', 'Twentieth', 'Twenty-First', 'Twenty-Second', 'Twenty-Third', 'Twenty-Fourth',\\\n",
    "             'Twenty-Fifth', 'Twenty-Sixth', 'Twenty-Seventh', 'Twenty-Eighth', 'Twenty-Ninth', 'Thirtieth',\\\n",
    "             'Thirty-First', 'Thirty-Second', 'Thirty-Third', 'Thirty-Fourth', 'Thirty-Fifth', 'Thirty-Sixth',\\\n",
    "             'Thirty-Seventh'] \n",
    "    ind=None\n",
    "    df4 = pd.read_csv('MODEL_ONE_Census_2010-2015/onlydatahouse.csv', header=None)\n",
    "    for index, row in df4.iterrows():\n",
    "        if row[0] == '005 Fifth Barnstable':\n",
    "            ind = index\n",
    "    df4 = df4.drop([ind], axis=0)\n",
    "    house_districts = df4[0].tolist()\n",
    "    house_districts = house_districts [:-1]\n",
    "    for i in range(len(house_districts)):\n",
    "        temp_str = house_districts[i]\n",
    "        house_districts[i] = temp_str[4:]\n",
    "    census_house_income = pd.read_csv(file,skiprows=1)\n",
    "    census_house_income['Geography'] = census_house_income['Geography'].apply(lambda x: x.split(\" District\")[0])\n",
    "\n",
    "    if year == \"2011\" or year == \"2010\":\n",
    "        for i in range(len(dumb_list)):\n",
    "            census_house_income['Geography'] = census_house_income['Geography'].apply(lambda x: x.replace(titles[i], dumb_list[i]) \\\n",
    "                                                                        if x.split()[0] == titles[i] else x)\n",
    "#     if year == \"2014\" or year == \"2013\" or year == \"2012\":\n",
    "#         for i in range(len(house_districts)):\n",
    "#             splitter = house_districts[i].split(\" \")\n",
    "#             if splitter[0] == 'Barnstable':\n",
    "#                 continue\n",
    "#             if splitter[0] == 'First':\n",
    "#                 splitter[0] = dumb_list[1]\n",
    "#             elif splitter[0] == 'Second':\n",
    "#                 splitter[0] = dumb_list[2]\n",
    "#             elif splitter[0] == 'Third':\n",
    "#                 splitter[0] = dumb_list[3]\n",
    "#             elif splitter[0] == 'Fourth':\n",
    "#                 splitter[0] = dumb_list[4]\n",
    "#             elif splitter[0] == 'Fifth':\n",
    "#                 splitter[0] = dumb_list[5]\n",
    "#             elif splitter[0] == 'Sixth':\n",
    "#                 splitter[0] = dumb_list[6]\n",
    "#             elif splitter[0] == 'Seventh':\n",
    "#                 splitter[0] = dumb_list[7]\n",
    "#             elif splitter[0] == 'Eighth':\n",
    "#                 splitter[0] = dumb_list[8]\n",
    "#             elif splitter[0] == 'Ninth':\n",
    "#                 splitter[0] = dumb_list[9]\n",
    "#             elif splitter[0] == 'Tenth':\n",
    "#                 splitter[0] = dumb_list[10]\n",
    "#             elif splitter[0] == 'Eleventh':\n",
    "#                 splitter[0] = dumb_list[11]\n",
    "#             elif splitter[0] == 'Twelfth':\n",
    "#                 splitter[0] = dumb_list[12]\n",
    "#             elif splitter[0] == 'Thirteenth':\n",
    "#                 splitter[0] = dumb_list[13]\n",
    "#             elif splitter[0] == 'Fourteenth':\n",
    "#                 splitter[0] = dumb_list[14]\n",
    "#             elif splitter[0] == 'Fifteenth':\n",
    "#                 splitter[0] = dumb_list[15]\n",
    "#             elif splitter[0] == 'Sixteenth':\n",
    "#                 splitter[0] = dumb_list[16]\n",
    "#             elif splitter[0] == 'Seventeenth':\n",
    "#                 splitter[0] = dumb_list[17]\n",
    "#             elif splitter[0] == 'Eighteenth':\n",
    "#                 splitter[0] = dumb_list[18]\n",
    "#             elif splitter[0] == 'Nineteenth':\n",
    "#                 splitter[0] = dumb_list[19]\n",
    "#             elif splitter[0] == 'Twentieth':\n",
    "#                 splitter[0] = dumb_list[20]\n",
    "#             elif splitter[0] == 'Twenty-First':\n",
    "#                 splitter[0] = dumb_list[21]\n",
    "#             elif splitter[0] == 'Twenty-Second':\n",
    "#                 splitter[0] = dumb_list[22]\n",
    "\n",
    "#             district = ''\n",
    "#             for j in range(len(splitter)):\n",
    "#                 if j != len(splitter)-1:\n",
    "#                     district += splitter[j]+\" \"\n",
    "#                 else:\n",
    "#                     district += splitter[j]\n",
    "#             house_districts[i] = district\n",
    "\n",
    "    return census_house_income"
   ]
  },
  {
   "cell_type": "code",
   "execution_count": 44,
   "metadata": {
    "collapsed": false
   },
   "outputs": [
    {
     "name": "stdout",
     "output_type": "stream",
     "text": [
      "final_census_house_income is written\n",
      "final_census_house_income is written\n",
      "final_census_house_income is written\n",
      "final_census_house_income is written\n",
      "final_census_house_income is written\n",
      "final_census_house_income is written\n"
     ]
    }
   ],
   "source": [
    "census_house_income = census_house_money(\"MODEL_ONE_Census_2010-2015/House/2015/Census_2015_income.csv\", \"2015\")\n",
    "census_house_income.to_csv('MODEL_ONE_Census_2010-2015/House/2015/final_census_house_income_2015.csv')\n",
    "print(\"final_census_house_income is written\")\n",
    "\n",
    "census_house_income1 = census_house_money(\"MODEL_ONE_Census_2010-2015/House/2014/Census_2014_income.csv\", \"2014\")\n",
    "census_house_income1.to_csv('MODEL_ONE_Census_2010-2015/House/2014/final_census_house_income_2014.csv')\n",
    "print(\"final_census_house_income is written\")\n",
    "\n",
    "census_house_income2 = census_house_money(\"MODEL_ONE_Census_2010-2015/House/2013/Census_2013_income.csv\", \"2013\")\n",
    "census_house_income2.to_csv('MODEL_ONE_Census_2010-2015/House/2013/final_census_house_income_2013.csv')\n",
    "print(\"final_census_house_income is written\")\n",
    "\n",
    "census_house_income3 = census_house_money(\"MODEL_ONE_Census_2010-2015/House/2012/Census_2012_income.csv\", \"2012\")\n",
    "census_house_income3.to_csv('MODEL_ONE_Census_2010-2015/House/2012/final_census_house_income_2012.csv')\n",
    "print(\"final_census_house_income is written\")\n",
    "\n",
    "census_house_income4 = census_house_money(\"MODEL_ONE_Census_2010-2015/House/2011/Census_2011_income.csv\", \"2011\")\n",
    "census_house_income4.to_csv('MODEL_ONE_Census_2010-2015/House/2011/final_census_house_income_2011.csv')\n",
    "print(\"final_census_house_income is written\")\n",
    "\n",
    "census_house_income5 = census_house_money(\"MODEL_ONE_Census_2010-2015/House/2010/Census_2010_income.csv\", \"2010\")\n",
    "census_house_income5.to_csv('MODEL_ONE_Census_2010-2015/House/2010/final_census_house_income_2010.csv')\n",
    "print(\"final_census_house_income is written\")"
   ]
  },
  {
   "cell_type": "code",
   "execution_count": 150,
   "metadata": {
    "collapsed": false
   },
   "outputs": [],
   "source": []
  },
  {
   "cell_type": "code",
   "execution_count": 45,
   "metadata": {
    "collapsed": false
   },
   "outputs": [],
   "source": [
    "def combine_senate_census(file1, file2):\n",
    "    senate_reg = pd.read_csv(file1, index_col=0)\n",
    "    senate_income = pd.read_csv(file2, index_col=0)\n",
    "    senate_income = senate_income.drop(['Id2', 'Geography'], axis=1)\n",
    "    demo_and_income = senate_reg.merge(senate_income, how='left', on='Id', left_index=True, right_index=True)\n",
    "    demo_and_income = demo_and_income.drop(['Id2'], axis=1)\n",
    "    return demo_and_income"
   ]
  },
  {
   "cell_type": "code",
   "execution_count": 57,
   "metadata": {
    "collapsed": false
   },
   "outputs": [
    {
     "name": "stdout",
     "output_type": "stream",
     "text": [
      "final_census_senate_FINAL is written\n",
      "final_census_senate_FINAL is written\n",
      "final_census_senate_FINAL is written\n",
      "final_census_senate_FINAL is written\n",
      "final_census_senate_FINAL is written\n",
      "final_census_senate_FINAL is written\n"
     ]
    }
   ],
   "source": [
    "demo_and_income = combine_senate_census(\"MODEL_ONE_Census_2010-2015/Senate/2015/final_census_senate_2015.csv\", \"MODEL_ONE_Census_2010-2015/Senate/2015/final_census_senate_income_2015.csv\")\n",
    "demo_and_income.to_csv(\"MODEL_ONE_Census_2010-2015/Senate/2015/FINAL_SENATE_all_census_data_2015.csv\")\n",
    "print(\"final_census_senate_FINAL is written\")\n",
    "\n",
    "demo_and_income1 = combine_senate_census(\"MODEL_ONE_Census_2010-2015/Senate/2014/final_census_senate_2014.csv\", \"MODEL_ONE_Census_2010-2015/Senate/2014/final_census_senate_income_2014.csv\")\n",
    "demo_and_income1.to_csv(\"MODEL_ONE_Census_2010-2015/Senate/2014/FINAL_SENATE_all_census_data_2014.csv\")\n",
    "print(\"final_census_senate_FINAL is written\")\n",
    "\n",
    "demo_and_income2 = combine_senate_census(\"MODEL_ONE_Census_2010-2015/Senate/2013/final_census_senate_2013.csv\", \"MODEL_ONE_Census_2010-2015/Senate/2013/final_census_senate_income_2013.csv\")\n",
    "demo_and_income2.to_csv(\"MODEL_ONE_Census_2010-2015/Senate/2013/FINAL_SENATE_all_census_data_2013.csv\")\n",
    "print(\"final_census_senate_FINAL is written\")\n",
    "\n",
    "demo_and_income3 = combine_senate_census(\"MODEL_ONE_Census_2010-2015/Senate/2012/final_census_senate_2012.csv\", \"MODEL_ONE_Census_2010-2015/Senate/2012/final_census_senate_income_2012.csv\")\n",
    "demo_and_income3.to_csv(\"MODEL_ONE_Census_2010-2015/Senate/2012/FINAL_SENATE_all_census_data_2012.csv\")\n",
    "print(\"final_census_senate_FINAL is written\")\n",
    "\n",
    "demo_and_income4 = combine_senate_census(\"MODEL_ONE_Census_2010-2015/Senate/2011/final_census_senate_2011.csv\", \"MODEL_ONE_Census_2010-2015/Senate/2011/final_census_senate_income_2011.csv\")\n",
    "demo_and_income4.to_csv(\"MODEL_ONE_Census_2010-2015/Senate/2011/FINAL_SENATE_all_census_data_2011.csv\")\n",
    "print(\"final_census_senate_FINAL is written\")\n",
    "\n",
    "demo_and_income5 = combine_senate_census(\"MODEL_ONE_Census_2010-2015/Senate/2010/final_census_senate_2010.csv\", \"MODEL_ONE_Census_2010-2015/Senate/2010/final_census_senate_income_2010.csv\")\n",
    "demo_and_income5.to_csv(\"MODEL_ONE_Census_2010-2015/Senate/2010/FINAL_SENATE_all_census_data_2010.csv\")\n",
    "print(\"final_census_senate_FINAL is written\")"
   ]
  },
  {
   "cell_type": "code",
   "execution_count": 152,
   "metadata": {
    "collapsed": false
   },
   "outputs": [],
   "source": []
  },
  {
   "cell_type": "code",
   "execution_count": 46,
   "metadata": {
    "collapsed": false
   },
   "outputs": [],
   "source": [
    "def combine_house_census(file1, file2):\n",
    "\n",
    "    house_reg = pd.read_csv(file1, index_col=0)\n",
    "    house_income = pd.read_csv(file2, index_col=0)\n",
    "    house_reg = house_reg.drop(['Id2'], axis=1)\n",
    "    house_income = house_income.drop(['Id2', 'Geography'], axis=1)\n",
    "    house_demo_and_income = house_reg.merge(house_income, how='left', on='Id', left_index=True, right_index=True)\n",
    "\n",
    "    return house_demo_and_income\n",
    "    "
   ]
  },
  {
   "cell_type": "code",
   "execution_count": 47,
   "metadata": {
    "collapsed": false
   },
   "outputs": [
    {
     "name": "stdout",
     "output_type": "stream",
     "text": [
      "final_census_house_FINAL is written\n",
      "final_census_house_FINAL is written\n",
      "final_census_house_FINAL is written\n",
      "final_census_house_FINAL is written\n",
      "final_census_house_FINAL is written\n",
      "final_census_house_FINAL is written\n"
     ]
    }
   ],
   "source": [
    "house_demo_and_income = combine_house_census('MODEL_ONE_Census_2010-2015/House/2015/final_census_house_2015.csv', 'MODEL_ONE_Census_2010-2015/House/2015/final_census_house_income_2015.csv')\n",
    "house_demo_and_income.to_csv(\"MODEL_ONE_Census_2010-2015/House/2015/FINAL_HOUSE_all_census_data_2015.csv\")\n",
    "print(\"final_census_house_FINAL is written\")\n",
    "\n",
    "house_demo_and_income = combine_house_census('MODEL_ONE_Census_2010-2015/House/2014/final_census_house_2014.csv', 'MODEL_ONE_Census_2010-2015/House/2014/final_census_house_income_2014.csv')\n",
    "house_demo_and_income.to_csv(\"MODEL_ONE_Census_2010-2015/House/2014/FINAL_HOUSE_all_census_data_2014.csv\")\n",
    "print(\"final_census_house_FINAL is written\")\n",
    "\n",
    "house_demo_and_income = combine_house_census('MODEL_ONE_Census_2010-2015/House/2013/final_census_house_2013.csv', 'MODEL_ONE_Census_2010-2015/House/2013/final_census_house_income_2013.csv')\n",
    "house_demo_and_income.to_csv(\"MODEL_ONE_Census_2010-2015/House/2013/FINAL_HOUSE_all_census_data_2013.csv\")\n",
    "print(\"final_census_house_FINAL is written\")\n",
    "\n",
    "house_demo_and_income = combine_house_census('MODEL_ONE_Census_2010-2015/House/2012/final_census_house_2012.csv', 'MODEL_ONE_Census_2010-2015/House/2012/final_census_house_income_2012.csv')\n",
    "house_demo_and_income.to_csv(\"MODEL_ONE_Census_2010-2015/House/2012/FINAL_HOUSE_all_census_data_2012.csv\")\n",
    "print(\"final_census_house_FINAL is written\")\n",
    "\n",
    "house_demo_and_income = combine_house_census('MODEL_ONE_Census_2010-2015/House/2011/final_census_house_2011.csv', 'MODEL_ONE_Census_2010-2015/House/2011/final_census_house_income_2011.csv')\n",
    "house_demo_and_income.to_csv(\"MODEL_ONE_Census_2010-2015/House/2011/FINAL_HOUSE_all_census_data_2011.csv\")\n",
    "print(\"final_census_house_FINAL is written\")\n",
    "\n",
    "house_demo_and_income = combine_house_census('MODEL_ONE_Census_2010-2015/House/2010/final_census_house_2010.csv', 'MODEL_ONE_Census_2010-2015/House/2010/final_census_house_income_2010.csv')\n",
    "house_demo_and_income.to_csv(\"MODEL_ONE_Census_2010-2015/House/2010/FINAL_HOUSE_all_census_data_2010.csv\")\n",
    "print(\"final_census_house_FINAL is written\")"
   ]
  },
  {
   "cell_type": "code",
   "execution_count": 155,
   "metadata": {
    "collapsed": false
   },
   "outputs": [],
   "source": []
  },
  {
   "cell_type": "code",
   "execution_count": null,
   "metadata": {
    "collapsed": true
   },
   "outputs": [],
   "source": []
  },
  {
   "cell_type": "code",
   "execution_count": null,
   "metadata": {
    "collapsed": false
   },
   "outputs": [],
   "source": []
  }
 ],
 "metadata": {
  "kernelspec": {
   "display_name": "Python 3",
   "language": "python",
   "name": "python3"
  },
  "language_info": {
   "codemirror_mode": {
    "name": "ipython",
    "version": 3
   },
   "file_extension": ".py",
   "mimetype": "text/x-python",
   "name": "python",
   "nbconvert_exporter": "python",
   "pygments_lexer": "ipython3",
   "version": "3.6.0"
  }
 },
 "nbformat": 4,
 "nbformat_minor": 2
}
