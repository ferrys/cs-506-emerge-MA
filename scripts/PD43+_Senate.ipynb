{
 "cells": [
  {
   "cell_type": "code",
   "execution_count": 176,
   "metadata": {
    "collapsed": true
   },
   "outputs": [],
   "source": [
    "import pandas as pd\n",
    "import selenium\n",
    "from selenium import webdriver\n",
    "from selenium.webdriver.support.ui import Select\n",
    "from collections import OrderedDict \n",
    "\n",
    "driver = webdriver.Chrome()\n",
    "driver.get('http://electionstats.state.ma.us/elections/search/year_from:2010/year_to:2017/office_id:9/stage:General/show_details:1')\n",
    "\n",
    "dropdown = Select(driver.find_element_by_name('search_results_table_length'))\n",
    "dropdown.select_by_value('-1')"
   ]
  },
  {
   "cell_type": "code",
   "execution_count": 177,
   "metadata": {
    "collapsed": true
   },
   "outputs": [],
   "source": [
    "candidates = driver.find_element_by_id('search_results_table')"
   ]
  },
  {
   "cell_type": "code",
   "execution_count": 210,
   "metadata": {
    "collapsed": true
   },
   "outputs": [],
   "source": [
    "years = []\n",
    "districts = []\n",
    "districts_temp = []\n",
    "names = []\n",
    "parties = []\n",
    "vote_counts = []\n",
    "vote_percents = []\n",
    "\n",
    "candidate_dict = []\n",
    "\n",
    "for year in candidates.find_elements_by_xpath(\"//td[@class='year first ']\"):\n",
    "    years.append(year.text)\n",
    "\n",
    "for district in candidates.find_elements_by_xpath(\"//td[@class=' ']\"):\n",
    "    districts_temp.append(district.text)\n",
    "\n",
    "for i in range(1, len(districts_temp), 2):\n",
    "    districts.append(districts_temp[i])\n",
    "    \n",
    "for name in candidates.find_elements_by_xpath(\"//td[@class='candidates_container_cell ']/table[@class='candidates']/tbody/tr[@class=' is_winner']/td[@class='candidate']/div[@class='name']/a\"):\n",
    "    names.append(name.text)\n",
    "\n",
    "for party in candidates.find_elements_by_xpath(\"//td[@class='candidates_container_cell ']/table[@class='candidates']/tbody/tr[@class=' is_winner']/td[@class='candidate']/div[@class='party']\"):\n",
    "    parties.append(party.text)\n",
    "    \n",
    "for vote_count in candidates.find_elements_by_xpath(\"//td[@class='candidates_container_cell ']/table[@class='candidates']/tbody/tr[@class=' is_winner']/td[2]\"):\n",
    "    vote_counts.append(vote_count.text)\n",
    "\n",
    "for vote_percent in candidates.find_elements_by_xpath(\"//td[@class='candidates_container_cell ']/table[@class='candidates']/tbody/tr[@class=' is_winner']/td[3]\"):\n",
    "    vote_percents.append(vote_percent.text[:-1])"
   ]
  },
  {
   "cell_type": "code",
   "execution_count": 212,
   "metadata": {
    "collapsed": true
   },
   "outputs": [],
   "source": [
    "for i in range(len(years)):\n",
    "    candidate_dict.append(OrderedDict([('year', years[i]), ('district', districts[i]), ('name', names[i]), ('party', parties[i]), ('vote_count', vote_counts[i]), ('vote_percent', vote_percents[i])]))\n",
    "\n",
    "candidateDf = pd.DataFrame(candidate_dict)\n",
    "candidateDf.to_csv('data/PD43+_Senate_processed.csv', index=False)"
   ]
  }
 ],
 "metadata": {
  "kernelspec": {
   "display_name": "Python 3",
   "language": "python",
   "name": "python3"
  },
  "language_info": {
   "codemirror_mode": {
    "name": "ipython",
    "version": 3
   },
   "file_extension": ".py",
   "mimetype": "text/x-python",
   "name": "python",
   "nbconvert_exporter": "python",
   "pygments_lexer": "ipython3",
   "version": "3.6.1"
  }
 },
 "nbformat": 4,
 "nbformat_minor": 2
}
