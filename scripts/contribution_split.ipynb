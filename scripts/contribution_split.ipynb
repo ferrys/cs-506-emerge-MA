{
 "cells": [
  {
   "cell_type": "code",
   "execution_count": 4,
   "metadata": {
    "collapsed": true
   },
   "outputs": [],
   "source": [
    "import ast\n",
    "import pandas as pd"
   ]
  },
  {
   "cell_type": "code",
   "execution_count": 13,
   "metadata": {},
   "outputs": [],
   "source": [
    "def lists_to_districts(contribution_df, type):\n",
    "    all_districts = []\n",
    "    for index, row in contribution_df.iterrows():\n",
    "        if type == 'senate':\n",
    "            district = ast.literal_eval(row['senate_district'])\n",
    "        elif type == 'house':\n",
    "            district = ast.literal_eval(row['house_district'])\n",
    "        for i in range(len(district)):\n",
    "            if district[i] not in all_districts:\n",
    "                all_districts += [district[i]]\n",
    "    all_districts\n",
    "\n",
    "    district_dict = {}\n",
    "\n",
    "    for i in all_districts:\n",
    "        district_dict[i] = 0\n",
    "\n",
    "    for index, row in contribution_df.iterrows():\n",
    "        if type == 'senate':\n",
    "            district = ast.literal_eval(row['senate_district'])\n",
    "        elif type == 'house':\n",
    "            district = ast.literal_eval(row['house_district'])\n",
    "        if len(district) == 1:\n",
    "            temp = district[0]\n",
    "            amount = row['Amount']\n",
    "            district_dict[temp] += amount\n",
    "        else:\n",
    "            num_districts = len(district)\n",
    "            amount = row['Amount']\n",
    "            split_amount = amount/num_districts\n",
    "            for i in range(num_districts):\n",
    "                temp = district[i]\n",
    "                district_dict[temp] += split_amount\n",
    "\n",
    "\n",
    "    for j in district_dict:\n",
    "        district_dict[j] = round(district_dict[j], 2)\n",
    "\n",
    "\n",
    "    final_contributions = []\n",
    "    for i in district_dict:\n",
    "        final_contributions += [[i, district_dict[i]]]\n",
    "\n",
    "    contributions = pd.DataFrame(final_contributions, columns=['District', 'Amount'])\n",
    "    return contributions\n"
   ]
  },
  {
   "cell_type": "code",
   "execution_count": 14,
   "metadata": {},
   "outputs": [],
   "source": [
    "for i in range(2010, 2017):\n",
    "    money_senate = pd.read_csv('../cleaned_data/Contribution/orig/contribution_senate_' + str(i) + '.csv')\n",
    "    money_senate['senate_district'] = money_senate['senate_district'].apply(lambda x: x.replace('Isl&s', 'Islands') if x == \"['Cape & Isl&s']\" else x)\n",
    "    df = lists_to_districts(money_senate, 'senate')\n",
    "    df.to_csv(\"../cleaned_data/Contribution/contribution_senate_districts_\" + str(i) + \".csv\")\n",
    "\n"
   ]
  },
  {
   "cell_type": "code",
   "execution_count": 16,
   "metadata": {},
   "outputs": [],
   "source": [
    "for i in range(2010, 2017):\n",
    "    money_house = pd.read_csv('../cleaned_data/Contribution/orig/contribution_data_house_districts_' + str(i) + '.csv')\n",
    "    df = lists_to_districts(money_house, 'house')\n",
    "    df.to_csv(\"../cleaned_data/Contribution/contribution_house_districts_\" + str(i) + \".csv\")\n",
    "\n",
    "\n"
   ]
  },
  {
   "cell_type": "code",
   "execution_count": null,
   "metadata": {
    "collapsed": true
   },
   "outputs": [],
   "source": []
  }
 ],
 "metadata": {
  "kernelspec": {
   "display_name": "Python 3",
   "language": "python",
   "name": "python3"
  },
  "language_info": {
   "codemirror_mode": {
    "name": "ipython",
    "version": 3
   },
   "file_extension": ".py",
   "mimetype": "text/x-python",
   "name": "python",
   "nbconvert_exporter": "python",
   "pygments_lexer": "ipython3",
   "version": "3.6.1"
  }
 },
 "nbformat": 4,
 "nbformat_minor": 2
}
