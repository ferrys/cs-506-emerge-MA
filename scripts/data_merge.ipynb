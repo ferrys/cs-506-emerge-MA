{
 "cells": [
  {
   "cell_type": "code",
   "execution_count": 141,
   "metadata": {
    "collapsed": true
   },
   "outputs": [],
   "source": [
    "import pandas as pd"
   ]
  },
  {
   "cell_type": "code",
   "execution_count": 142,
   "metadata": {
    "collapsed": true
   },
   "outputs": [],
   "source": [
    "def combine_contribution_and_pd43_and_census(contribution_df, pd43_df, census_df):\n",
    "    df = census_df.merge(contribution_df, how='left', left_index=True, right_index=True)\n",
    "    df = df.merge(pd43_df, how='left', left_index=True, right_index=True)\n",
    "    return df"
   ]
  },
  {
   "cell_type": "code",
   "execution_count": 130,
   "metadata": {
    "collapsed": true
   },
   "outputs": [],
   "source": [
    "column_names = ['District', 'Amount']"
   ]
  },
  {
   "cell_type": "code",
   "execution_count": 131,
   "metadata": {
    "collapsed": true
   },
   "outputs": [],
   "source": [
    "#### 2009-2010 House ####\n",
    "contribution_df = pd.read_csv(\"../historical_model/train_data/contribution/house/contribution_house_2009_2010.csv\", header = None, names = column_names)\n",
    "contribution_df['District'] = contribution_df['District'].replace('( and )',' & ', regex=True) \n",
    "contribution_df = contribution_df[['District', 'Amount']].set_index('District')\n",
    "\n",
    "pd43_df = pd.read_csv(\"../historical_model/train_data/pd43/house/pd43_data_house_districts_2009-2010.csv\")\n",
    "pd43_df['district'] = pd43_df['district'].replace('( and )',' & ', regex=True) \n",
    "pd43_df = pd43_df[['district', 'name', 'sex', 'party', 'vote_count', 'vote_percent']].set_index('district')\n",
    "\n",
    "census_df = pd.read_csv(\"../historical_model/train_data/census/house/FINAL_HOUSE_all_census_data_2010.csv\")\n",
    "census_df = census_df[list(census_df.columns[2:])].set_index('Geography')\n",
    "\n",
    "df = combine_contribution_and_pd43_and_census(contribution_df, pd43_df, census_df)\n",
    "df.to_csv(\"../historical_model/train_data/merged_house_districts_2009_2010.csv\")\n"
   ]
  },
  {
   "cell_type": "code",
   "execution_count": 132,
   "metadata": {
    "collapsed": true
   },
   "outputs": [],
   "source": [
    "#### 2011-2012 House ####\n",
    "contribution_df = pd.read_csv(\"../historical_model/train_data/contribution/house/contribution_house_2011_2012.csv\", header = None, names = column_names)\n",
    "contribution_df['District'] = contribution_df['District'].replace('( and )',' & ', regex=True) \n",
    "contribution_df = contribution_df[['District', 'Amount']].set_index('District')\n",
    "\n",
    "pd43_df = pd.read_csv(\"../historical_model/train_data/pd43/house/pd43_data_house_districts_2011-2012.csv\")\n",
    "pd43_df['district'] = pd43_df['district'].replace('( and )',' & ', regex=True) \n",
    "pd43_df = pd43_df[['district', 'name', 'sex', 'party', 'vote_count', 'vote_percent']].set_index('district')\n",
    "\n",
    "census_df = pd.read_csv(\"../historical_model/train_data/census/house/census_house_2011_2012_merge.csv\")\n",
    "census_df = census_df.set_index('Geography')\n",
    "\n",
    "df = combine_contribution_and_pd43_and_census(contribution_df, pd43_df, census_df)\n",
    "df.to_csv(\"../historical_model/train_data/merged_house_districts_2011-2012.csv\")"
   ]
  },
  {
   "cell_type": "code",
   "execution_count": 147,
   "metadata": {},
   "outputs": [],
   "source": [
    "#### 2013-2014 House ####\n",
    "contribution_df = pd.read_csv(\"../historical_model/valid_data/contribution/house/contribution_house_2013_2014.csv\", header = None, names = column_names)\n",
    "contribution_df['District'] = contribution_df['District'].replace('( and )',' & ', regex=True) \n",
    "contribution_df = contribution_df[['District', 'Amount']].set_index('District')\n",
    "\n",
    "pd43_df = pd.read_csv(\"../historical_model/valid_data/pd43/house/pd43_data_house_districts_2013-2014.csv\")\n",
    "pd43_df['district'] = pd43_df['district'].replace('( and )',' & ', regex=True) \n",
    "pd43_df = pd43_df[['district', 'name', 'sex', 'party', 'vote_count', 'vote_percent']].set_index('district')\n",
    "\n",
    "census_df = pd.read_csv(\"../historical_model/valid_data/census/house/census_house_2013_2014_merge.csv\")\n",
    "census_df = census_df.set_index('Geography')\n",
    "\n",
    "df = combine_contribution_and_pd43_and_census(contribution_df, pd43_df, census_df)\n",
    "df.to_csv(\"../historical_model/valid_data/merged_house_districts_2013_2014.csv\")"
   ]
  },
  {
   "cell_type": "code",
   "execution_count": 134,
   "metadata": {
    "collapsed": true
   },
   "outputs": [],
   "source": [
    "#### 2015-2016 House ####\n",
    "contribution_df = pd.read_csv(\"../historical_model/test_data/contribution/house/contribution_house_2015_2016.csv\", header = None, names = column_names)\n",
    "contribution_df['District'] = contribution_df['District'].replace('( and )',' & ', regex=True) \n",
    "contribution_df = contribution_df[['District', 'Amount']].set_index('District')\n",
    "\n",
    "pd43_df = pd.read_csv(\"../historical_model/test_data/pd43/house/pd43_data_house_districts_2015-2016.csv\")\n",
    "pd43_df['district'] = pd43_df['district'].replace('( and )',' & ', regex=True)\n",
    "pd43_df = pd43_df[['district', 'name', 'sex', 'party', 'vote_count', 'vote_percent']].set_index('district')\n",
    "\n",
    "# census_df = pd.read_csv(\"../historical_model/test_data/census/house/census_house_2015_2016_merge.csv\")\n",
    "# census_df = census_df.set_index('Geography')\n",
    "census_df = pd.read_csv(\"../historical_model/test_data/census/house/FINAL_HOUSE_all_census_data_2015.csv\")\n",
    "census_df = census_df[list(census_df.columns[2:])].set_index('Geography')\n",
    "\n",
    "df = combine_contribution_and_pd43_and_census(contribution_df, pd43_df, census_df)\n",
    "df.to_csv(\"../historical_model/test_data/merged_house_districts_2015_2016.csv\")\n"
   ]
  },
  {
   "cell_type": "code",
   "execution_count": 135,
   "metadata": {
    "collapsed": true
   },
   "outputs": [],
   "source": [
    "#### 2009-2010 Senate ####\n",
    "contribution_df = pd.read_csv(\"../historical_model/train_data/contribution/senate/contribution_senate_2009_2010.csv\", header = None, names = column_names)\n",
    "contribution_df = contribution_df[['District', 'Amount']].set_index('District')\n",
    "\n",
    "pd43_df = pd.read_csv(\"../historical_model/train_data/pd43/senate/pd43_data_senate_districts_2009-2010.csv\")\n",
    "pd43_df['district'] = pd43_df['district'].replace('( and )',' & ', regex=True).replace('(\")','', regex=True)\n",
    "pd43_df = pd43_df[['district', 'name', 'sex', 'party', 'vote_count', 'vote_percent']].set_index('district')\n",
    "\n",
    "census_df = pd.read_csv(\"../historical_model/train_data/census/senate/FINAL_SENATE_all_census_data_2010.csv\")\n",
    "census_df = census_df[list(census_df.columns[2:])].set_index(\"Geography\")\n",
    "\n",
    "df = combine_contribution_and_pd43_and_census(contribution_df, pd43_df, census_df)\n",
    "df.to_csv(\"../historical_model/train_data/merged_senate_districts_2009_2010.csv\")"
   ]
  },
  {
   "cell_type": "code",
   "execution_count": 136,
   "metadata": {
    "collapsed": true
   },
   "outputs": [],
   "source": [
    "#### 2011-2012 Senate ####\n",
    "contribution_df = pd.read_csv(\"../historical_model/train_data/contribution/senate/contribution_senate_2011_2012.csv\", header = None, names = column_names)\n",
    "contribution_df = contribution_df[['District', 'Amount']].set_index('District')\n",
    "\n",
    "pd43_df = pd.read_csv(\"../historical_model/train_data/pd43/senate/pd43_data_senate_districts_2011-2012.csv\")\n",
    "pd43_df['district'] = pd43_df['district'].replace('( and )',' & ', regex=True).replace('(\")','', regex=True)\n",
    "pd43_df = pd43_df[['district', 'name', 'sex', 'party', 'vote_count', 'vote_percent']].set_index('district')\n",
    "\n",
    "census_df = pd.read_csv(\"../historical_model/train_data/census/senate/census_senate_2011_2012_merge.csv\")\n",
    "census_df = census_df.set_index('Geography')\n",
    "\n",
    "df = combine_contribution_and_pd43_and_census(contribution_df, pd43_df, census_df)\n",
    "df.to_csv(\"../historical_model/train_data/merged_senate_districts_2011_2012.csv\")"
   ]
  },
  {
   "cell_type": "code",
   "execution_count": 137,
   "metadata": {
    "collapsed": true
   },
   "outputs": [],
   "source": [
    "#### 2013-2014 Senate ####\n",
    "contribution_df = pd.read_csv(\"../historical_model/valid_data/contribution/senate/contribution_senate_2013_2014.csv\", header = None, names = column_names)\n",
    "contribution_df = contribution_df[['District', 'Amount']].set_index('District')\n",
    "\n",
    "pd43_df = pd.read_csv(\"../historical_model/valid_data/pd43/senate/pd43_data_senate_districts_2013-2014.csv\")\n",
    "pd43_df['district'] = pd43_df['district'].replace('( and )',' & ', regex=True).replace('(\")','', regex=True)\n",
    "pd43_df = pd43_df[['district', 'name', 'sex', 'party', 'vote_count', 'vote_percent']].set_index('district')\n",
    "\n",
    "census_df = pd.read_csv(\"../historical_model/valid_data/census/senate/census_senate_2013_2014_merge.csv\")\n",
    "census_df = census_df.set_index('Geography')\n",
    "\n",
    "df = combine_contribution_and_pd43_and_census(contribution_df, pd43_df, census_df)\n",
    "df.to_csv(\"../historical_model/valid_data/merged_senate_districts_2013_2014.csv\")"
   ]
  },
  {
   "cell_type": "code",
   "execution_count": 138,
   "metadata": {
    "collapsed": true
   },
   "outputs": [],
   "source": [
    "#### 2015-2016 Senate ####\n",
    "contribution_df = pd.read_csv(\"../historical_model/test_data/contribution/senate/contribution_senate_2015_2016.csv\", header = None, names = column_names)\n",
    "contribution_df = contribution_df[['District', 'Amount']].set_index('District')\n",
    "\n",
    "pd43_df = pd.read_csv(\"../historical_model/test_data/pd43/senate/pd43_data_senate_districts_2015-2016.csv\")\n",
    "pd43_df['district'] = pd43_df['district'].replace('( and )',' & ', regex=True).replace('(\")','', regex=True)\n",
    "pd43_df = pd43_df[['district', 'name', 'sex', 'party', 'vote_count', 'vote_percent']].set_index('district')\n",
    "\n",
    "# census_df = pd.read_csv(\"../historical_model/test_data/census/senate/census_senate_2015_2016_merge.csv\")\n",
    "# census_df = census_df.set_index('Geography')\n",
    "census_df = pd.read_csv(\"../historical_model/test_data/census/senate/FINAL_SENATE_all_census_data_2015.csv\")\n",
    "census_df = census_df[list(census_df.columns[2:])].set_index('Geography')\n",
    "\n",
    "df = combine_contribution_and_pd43_and_census(contribution_df, pd43_df, census_df)\n",
    "df.to_csv(\"../historical_model/test_data/merged_senate_districts_2015_2016.csv\")"
   ]
  },
  {
   "cell_type": "code",
   "execution_count": null,
   "metadata": {
    "collapsed": true
   },
   "outputs": [],
   "source": []
  },
  {
   "cell_type": "code",
   "execution_count": null,
   "metadata": {
    "collapsed": true
   },
   "outputs": [],
   "source": []
  }
 ],
 "metadata": {
  "kernelspec": {
   "display_name": "Python 3",
   "language": "python",
   "name": "python3"
  },
  "language_info": {
   "codemirror_mode": {
    "name": "ipython",
    "version": 3
   },
   "file_extension": ".py",
   "mimetype": "text/x-python",
   "name": "python",
   "nbconvert_exporter": "python",
   "pygments_lexer": "ipython3",
   "version": "3.6.1"
  }
 },
 "nbformat": 4,
 "nbformat_minor": 2
}
