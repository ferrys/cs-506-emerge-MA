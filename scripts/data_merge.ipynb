{
 "cells": [
  {
   "cell_type": "code",
   "execution_count": 1,
   "metadata": {
    "collapsed": true
   },
   "outputs": [],
   "source": [
    "import pandas as pd"
   ]
  },
  {
   "cell_type": "code",
   "execution_count": 35,
   "metadata": {
    "collapsed": true
   },
   "outputs": [],
   "source": [
    "def combine_contribution_and_pd43_and_census(contribution_df, pd43_df, census_df):\n",
    "    df = contribution_df.merge(pd43_df, how='left', left_index=True, right_index=True)\n",
    "    df = df.merge(census_df, how='left', left_index=True, right_index=True)\n",
    "    return df"
   ]
  },
  {
   "cell_type": "code",
   "execution_count": 37,
   "metadata": {},
   "outputs": [],
   "source": [
    "for i in range(2010, 2013):\n",
    "    contribution_df = pd.read_csv(\"../historical_model/train_data/contribution/house/contribution_house_districts_\" + str(i) + \".csv\")\n",
    "    contribution_df = contribution_df[['District', 'Amount']].set_index('District')\n",
    "    pd43_df = pd.read_csv(\"../historical_model/train_data/pd43/house/pd43_data_house_districts_\" + str(i) + \".csv\")\n",
    "    pd43_df = pd43_df[['district', 'name', 'sex', 'party', 'vote_count', 'vote_percent']].set_index('district')\n",
    "    census_df = pd.read_csv(\"../historical_model/train_data/census/house/FINAL_HOUSE_all_census_data_\" + str(i) + \".csv\")\n",
    "    census_df = census_df[list(census_df.columns[2:])].set_index('Geography')\n",
    "    df = combine_contribution_and_pd43_and_census(contribution_df, pd43_df, census_df)\n",
    "    df.to_csv(\"../historical_model/test/merged_house_districts_\" + str(i) + \".csv\")\n"
   ]
  },
  {
   "cell_type": "code",
   "execution_count": 39,
   "metadata": {},
   "outputs": [],
   "source": [
    "for i in range(2013, 2015):\n",
    "    contribution_df = pd.read_csv(\"../historical_model/valid_data/contribution/house/contribution_house_districts_\" + str(i) + \".csv\")\n",
    "    contribution_df = contribution_df[['District', 'Amount']].set_index('District')\n",
    "    pd43_df = pd.read_csv(\"../historical_model/valid_data/pd43/house/pd43_data_house_districts_\" + str(i) + \".csv\")\n",
    "    pd43_df = pd43_df[['district', 'name', 'sex', 'party', 'vote_count', 'vote_percent']].set_index('district')\n",
    "    census_df = pd.read_csv(\"../historical_model/valid_data/census/house/FINAL_HOUSE_all_census_data_\" + str(i) + \".csv\")\n",
    "    census_df = census_df[list(census_df.columns[2:])].set_index('Geography')\n",
    "    df = combine_contribution_and_pd43_and_census(contribution_df, pd43_df, census_df)\n",
    "    df.to_csv(\"../historical_model/test/merged_house_districts_\" + str(i) + \".csv\")\n",
    "\n"
   ]
  },
  {
   "cell_type": "code",
   "execution_count": null,
   "metadata": {
    "collapsed": true
   },
   "outputs": [],
   "source": []
  }
 ],
 "metadata": {
  "kernelspec": {
   "display_name": "Python 3",
   "language": "python",
   "name": "python3"
  },
  "language_info": {
   "codemirror_mode": {
    "name": "ipython",
    "version": 3
   },
   "file_extension": ".py",
   "mimetype": "text/x-python",
   "name": "python",
   "nbconvert_exporter": "python",
   "pygments_lexer": "ipython3",
   "version": "3.6.1"
  }
 },
 "nbformat": 4,
 "nbformat_minor": 2
}
