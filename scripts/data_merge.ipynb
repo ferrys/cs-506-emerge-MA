{
 "cells": [
  {
   "cell_type": "code",
   "execution_count": 2,
   "metadata": {
    "collapsed": true
   },
   "outputs": [],
   "source": [
    "import pandas as pd"
   ]
  },
  {
   "cell_type": "code",
   "execution_count": 28,
   "metadata": {
    "collapsed": true
   },
   "outputs": [],
   "source": [
    "def combine_contribution_and_pd43_and_census(contribution_df, pd43_df, census_df):\n",
    "    df = census_df.merge(contribution_df, how='left', left_index=True, right_index=True)\n",
    "    df = df.merge(pd43_df, how='left', left_index=True, right_index=True)\n",
    "    return df"
   ]
  },
  {
   "cell_type": "code",
   "execution_count": 4,
   "metadata": {
    "collapsed": true
   },
   "outputs": [],
   "source": [
    "column_names = ['District', 'Amount']"
   ]
  },
  {
   "cell_type": "code",
   "execution_count": 151,
   "metadata": {
    "collapsed": true
   },
   "outputs": [],
   "source": [
    "#### 2009-2010 House ####\n",
    "contribution_df = pd.read_csv(\"../historical_model/train_data/contribution/house/contribution_house_2009_2010.csv\", header = None, names = column_names)\n",
    "contribution_df['District'] = contribution_df['District'].replace('( and )',' & ', regex=True) \n",
    "contribution_df = contribution_df[['District', 'Amount']].set_index('District')\n",
    "\n",
    "pd43_df = pd.read_csv(\"../historical_model/train_data/pd43/house/pd43_data_house_districts_2009-2010.csv\")\n",
    "pd43_df['district'] = pd43_df['district'].replace('( and )',' & ', regex=True) \n",
    "pd43_df = pd43_df[['district', 'name', 'sex', 'party', 'vote_count', 'vote_percent']].set_index('district')\n",
    "\n",
    "census_df = pd.read_csv(\"../historical_model/train_data/census/house/FINAL_HOUSE_all_census_data_2010.csv\")\n",
    "census_df = census_df[list(census_df.columns[2:])].set_index('Geography')\n",
    "\n",
    "df = combine_contribution_and_pd43_and_census(contribution_df, pd43_df, census_df)\n",
    "df.to_csv(\"../historical_model/train_data/merged_house_districts_2009_2010.csv\")\n"
   ]
  },
  {
   "cell_type": "code",
   "execution_count": 152,
   "metadata": {
    "collapsed": true
   },
   "outputs": [],
   "source": [
    "#### 2011-2012 House ####\n",
    "contribution_df = pd.read_csv(\"../historical_model/train_data/contribution/house/contribution_house_2011_2012.csv\", header = None, names = column_names)\n",
    "contribution_df['District'] = contribution_df['District'].replace('( and )',' & ', regex=True) \n",
    "contribution_df = contribution_df[['District', 'Amount']].set_index('District')\n",
    "\n",
    "pd43_df = pd.read_csv(\"../historical_model/train_data/pd43/house/pd43_data_house_districts_2011-2012.csv\")\n",
    "pd43_df['district'] = pd43_df['district'].replace('( and )',' & ', regex=True) \n",
    "pd43_df = pd43_df[['district', 'name', 'sex', 'party', 'vote_count', 'vote_percent']].set_index('district')\n",
    "\n",
    "census_df = pd.read_csv(\"../historical_model/train_data/census/house/census_house_2011_2012_merge.csv\")\n",
    "census_df = census_df.set_index('Geography')\n",
    "\n",
    "df = combine_contribution_and_pd43_and_census(contribution_df, pd43_df, census_df)\n",
    "df.to_csv(\"../historical_model/train_data/merged_house_districts_2011-2012.csv\")"
   ]
  },
  {
   "cell_type": "code",
   "execution_count": 153,
   "metadata": {
    "collapsed": true
   },
   "outputs": [],
   "source": [
    "#### 2013-2014 House ####\n",
    "contribution_df = pd.read_csv(\"../historical_model/valid_data/contribution/house/contribution_house_2013_2014.csv\", header = None, names = column_names)\n",
    "contribution_df['District'] = contribution_df['District'].replace('( and )',' & ', regex=True) \n",
    "contribution_df = contribution_df[['District', 'Amount']].set_index('District')\n",
    "\n",
    "pd43_df = pd.read_csv(\"../historical_model/valid_data/pd43/house/pd43_data_house_districts_2013-2014.csv\")\n",
    "pd43_df['district'] = pd43_df['district'].replace('( and )',' & ', regex=True) \n",
    "pd43_df = pd43_df[['district', 'name', 'sex', 'party', 'vote_count', 'vote_percent']].set_index('district')\n",
    "\n",
    "census_df = pd.read_csv(\"../historical_model/valid_data/census/house/census_house_2013_2014_merge.csv\")\n",
    "census_df = census_df.set_index('Geography')\n",
    "\n",
    "df = combine_contribution_and_pd43_and_census(contribution_df, pd43_df, census_df)\n",
    "df.to_csv(\"../historical_model/valid_data/merged_house_districts_2013_2014.csv\")"
   ]
  },
  {
   "cell_type": "code",
   "execution_count": 154,
   "metadata": {
    "collapsed": true
   },
   "outputs": [],
   "source": [
    "#### 2015-2016 House ####\n",
    "contribution_df = pd.read_csv(\"../historical_model/test_data/contribution/house/contribution_house_2015_2016.csv\", header = None, names = column_names)\n",
    "contribution_df['District'] = contribution_df['District'].replace('( and )',' & ', regex=True) \n",
    "contribution_df = contribution_df[['District', 'Amount']].set_index('District')\n",
    "\n",
    "pd43_df = pd.read_csv(\"../historical_model/test_data/pd43/house/pd43_data_house_districts_2015-2016.csv\")\n",
    "pd43_df['district'] = pd43_df['district'].replace('( and )',' & ', regex=True)\n",
    "pd43_df = pd43_df[['district', 'name', 'sex', 'party', 'vote_count', 'vote_percent']].set_index('district').drop_duplicates()\n",
    "\n",
    "census_df = pd.read_csv(\"../historical_model/test_data/census/house/census_house_2015_2016_merge.csv\")\n",
    "census_df = census_df.set_index('Geography')\n",
    "# census_df = pd.read_csv(\"../historical_model/test_data/census/house/FINAL_HOUSE_all_census_data_2015.csv\")\n",
    "# census_df = census_df[list(census_df.columns[2:])].set_index('Geography')\n",
    "\n",
    "df = combine_contribution_and_pd43_and_census(contribution_df, pd43_df, census_df)\n",
    "df.to_csv(\"../historical_model/test_data/merged_house_districts_2015_2016.csv\")\n"
   ]
  },
  {
   "cell_type": "code",
   "execution_count": 155,
   "metadata": {
    "collapsed": true
   },
   "outputs": [],
   "source": [
    "#### 2009-2010 Senate ####\n",
    "contribution_df = pd.read_csv(\"../historical_model/train_data/contribution/senate/contribution_senate_2009_2010.csv\", header = None, names = column_names)\n",
    "contribution_df = contribution_df[['District', 'Amount']].set_index('District')\n",
    "\n",
    "pd43_df = pd.read_csv(\"../historical_model/train_data/pd43/senate/pd43_data_senate_districts_2009-2010.csv\")\n",
    "pd43_df['district'] = pd43_df['district'].replace('( and )',' & ', regex=True).replace('(\")','', regex=True)\n",
    "pd43_df = pd43_df[['district', 'name', 'sex', 'party', 'vote_count', 'vote_percent']].set_index('district')\n",
    "\n",
    "census_df = pd.read_csv(\"../historical_model/train_data/census/senate/FINAL_SENATE_all_census_data_2010.csv\")\n",
    "census_df = census_df[list(census_df.columns[2:])].set_index(\"Geography\")\n",
    "\n",
    "df = combine_contribution_and_pd43_and_census(contribution_df, pd43_df, census_df)\n",
    "df.to_csv(\"../historical_model/train_data/merged_senate_districts_2009_2010.csv\")"
   ]
  },
  {
   "cell_type": "code",
   "execution_count": 156,
   "metadata": {
    "collapsed": true
   },
   "outputs": [],
   "source": [
    "#### 2011-2012 Senate ####\n",
    "contribution_df = pd.read_csv(\"../historical_model/train_data/contribution/senate/contribution_senate_2011_2012.csv\", header = None, names = column_names)\n",
    "contribution_df = contribution_df[['District', 'Amount']].set_index('District')\n",
    "\n",
    "pd43_df = pd.read_csv(\"../historical_model/train_data/pd43/senate/pd43_data_senate_districts_2011-2012.csv\")\n",
    "pd43_df['district'] = pd43_df['district'].replace('( and )',' & ', regex=True).replace('(\")','', regex=True)\n",
    "pd43_df = pd43_df[['district', 'name', 'sex', 'party', 'vote_count', 'vote_percent']].set_index('district')\n",
    "\n",
    "census_df = pd.read_csv(\"../historical_model/train_data/census/senate/census_senate_2011_2012_merge.csv\")\n",
    "census_df = census_df.set_index('Geography')\n",
    "\n",
    "df = combine_contribution_and_pd43_and_census(contribution_df, pd43_df, census_df)\n",
    "df.to_csv(\"../historical_model/train_data/merged_senate_districts_2011_2012.csv\")"
   ]
  },
  {
   "cell_type": "code",
   "execution_count": 157,
   "metadata": {
    "collapsed": true
   },
   "outputs": [],
   "source": [
    "#### 2013-2014 Senate ####\n",
    "contribution_df = pd.read_csv(\"../historical_model/valid_data/contribution/senate/contribution_senate_2013_2014.csv\", header = None, names = column_names)\n",
    "contribution_df = contribution_df[['District', 'Amount']].set_index('District')\n",
    "\n",
    "pd43_df = pd.read_csv(\"../historical_model/valid_data/pd43/senate/pd43_data_senate_districts_2013-2014.csv\")\n",
    "pd43_df['district'] = pd43_df['district'].replace('( and )',' & ', regex=True).replace('(\")','', regex=True)\n",
    "pd43_df = pd43_df[['district', 'name', 'sex', 'party', 'vote_count', 'vote_percent']].set_index('district')\n",
    "\n",
    "census_df = pd.read_csv(\"../historical_model/valid_data/census/senate/census_senate_2013_2014_merge.csv\")\n",
    "census_df = census_df.set_index('Geography')\n",
    "\n",
    "df = combine_contribution_and_pd43_and_census(contribution_df, pd43_df, census_df)\n",
    "df.to_csv(\"../historical_model/valid_data/merged_senate_districts_2013_2014.csv\")"
   ]
  },
  {
   "cell_type": "code",
   "execution_count": 30,
   "metadata": {},
   "outputs": [
    {
     "name": "stdout",
     "output_type": "stream",
     "text": [
      "                                                                name sex  \\\n",
      "district                                                                   \n",
      "Second Plymouth & Bristol                           Michael D. Brady   m   \n",
      "Berkshire, Hampshire & Franklin                        Adam G. Hinds   m   \n",
      "Bristol & Norfolk                                   James E. Timilty   m   \n",
      "First Bristol & Plymouth                        Michael J. Rodrigues   m   \n",
      "Second Bristol & Plymouth                           Mark C. Montigny   m   \n",
      "Cape & Islands                                      Julian Andre Cyr   m   \n",
      "First Essex                                Kathleen A. O'Connor Ives   f   \n",
      "Second Essex                                          Joan B. Lovely   f   \n",
      "Third Essex                                          Thomas M. McGee   m   \n",
      "First Essex & Middlesex                                Bruce E. Tarr   m   \n",
      "Second Essex & Middlesex                        Barbara A. L'Italien   f   \n",
      "Hampden                                               James T. Welch   m   \n",
      "First Hampden & Hampshire                             Eric P. Lesser   m   \n",
      "Second Hampden & Hampshire                     Donald F. Humason, Jr   m   \n",
      "Hampshire, Franklin & Worcester                 Stanley C. Rosenberg   m   \n",
      "First Middlesex                                   Eileen M. Donoghue   f   \n",
      "Second Middlesex                                  Patricia D. Jehlen   f   \n",
      "Third Middlesex                                   Michael J. Barrett   m   \n",
      "Fourth Middlesex                                 Kenneth J. Donnelly   m   \n",
      "Fifth Middlesex                                       Jason M. Lewis   m   \n",
      "First Middlesex & Norfolk                        Cynthia Stone Creem   f   \n",
      "Second Middlesex & Norfolk                           Karen E. Spilka   f   \n",
      "Middlesex & Worcester                              James B. Eldridge   m   \n",
      "Middlesex & Suffolk                                Sal N. DiDomenico   m   \n",
      "Norfolk, Bristol & Middlesex                         Richard J. Ross   m   \n",
      "Norfolk, Bristol & Plymouth                   Walter F. Timilty, Jr.   m   \n",
      "Norfolk & Plymouth                                    John F. Keenan   m   \n",
      "Norfolk & Suffolk                                    Michael F. Rush   m   \n",
      "Plymouth & Barnstable                              Vinny M. deMacedo   m   \n",
      "Plymouth & Norfolk                               Patrick M. O'Connor   m   \n",
      "Plymouth & Norfolk                               Patrick M. O'Connor   m   \n",
      "First Plymouth & Bristol                             Marc R. Pacheco   m   \n",
      "Second Plymouth & Bristol                           Michael D. Brady   m   \n",
      "First Suffolk                                    Linda Dorcena Forry   f   \n",
      "Second Suffolk                                 Sonia Rosa Chang-Diaz   f   \n",
      "First Suffolk & Middlesex                          Joseph A. Boncore   m   \n",
      "First Suffolk & Middlesex                          Joseph A. Boncore   m   \n",
      "Second Suffolk & Middlesex                   William N. Brownsberger   m   \n",
      "Worcester & Middlesex                           Jennifer L. Flanagan   f   \n",
      "Worcester & Norfolk                                  Ryan C. Fattman   m   \n",
      "Worcester, Hampden, Hampshire & Middlesex               Anne M. Gobi   f   \n",
      "First Worcester                                Harriette L. Chandler   f   \n",
      "Second Worcester                                    Michael O. Moore   m   \n",
      "\n",
      "                                                party vote_count  vote_percent  \n",
      "district                                                                        \n",
      "Second Plymouth & Bristol                  Democratic     14,397          56.9  \n",
      "Berkshire, Hampshire & Franklin            Democratic     53,216          70.1  \n",
      "Bristol & Norfolk                          Democratic     66,611          99.3  \n",
      "First Bristol & Plymouth                   Democratic     54,618          99.4  \n",
      "Second Bristol & Plymouth                  Democratic     53,882          99.0  \n",
      "Cape & Islands                             Democratic     59,974          56.9  \n",
      "First Essex                                Democratic     65,131          99.1  \n",
      "Second Essex                               Democratic     67,120          98.9  \n",
      "Third Essex                                Democratic     58,844          99.1  \n",
      "First Essex & Middlesex                    Republican     77,851          99.2  \n",
      "Second Essex & Middlesex                   Democratic     45,218          63.4  \n",
      "Hampden                                    Democratic     45,061          98.3  \n",
      "First Hampden & Hampshire                  Democratic     44,602          55.8  \n",
      "Second Hampden & Hampshire                 Republican     43,097          59.5  \n",
      "Hampshire, Franklin & Worcester            Democratic     62,286          81.6  \n",
      "First Middlesex                            Democratic     56,759          98.6  \n",
      "Second Middlesex                           Democratic     75,777          98.5  \n",
      "Third Middlesex                            Democratic     64,554          98.7  \n",
      "Fourth Middlesex                           Democratic     68,540          99.0  \n",
      "Fifth Middlesex                            Democratic     52,954          68.9  \n",
      "First Middlesex & Norfolk                  Democratic     62,668          99.0  \n",
      "Second Middlesex & Norfolk                 Democratic     61,230          98.5  \n",
      "Middlesex & Worcester                      Democratic     55,698          64.2  \n",
      "Middlesex & Suffolk                        Democratic     53,022          98.9  \n",
      "Norfolk, Bristol & Middlesex               Republican     49,776          60.0  \n",
      "Norfolk, Bristol & Plymouth                Democratic     56,466          73.7  \n",
      "Norfolk & Plymouth                         Democratic     50,148          71.0  \n",
      "Norfolk & Suffolk                          Democratic     66,792          98.7  \n",
      "Plymouth & Barnstable                      Republican     69,474          99.3  \n",
      "Plymouth & Norfolk                         Republican     52,440          56.5  \n",
      "Plymouth & Norfolk                         Republican      9,047          52.6  \n",
      "First Plymouth & Bristol                   Democratic     52,915          65.3  \n",
      "Second Plymouth & Bristol                  Democratic     56,156          99.4  \n",
      "First Suffolk                              Democratic     59,874          98.4  \n",
      "Second Suffolk                             Democratic     58,705          98.8  \n",
      "First Suffolk & Middlesex                  Democratic     50,978          98.2  \n",
      "First Suffolk & Middlesex                  Democratic      2,429          89.4  \n",
      "Second Suffolk & Middlesex                 Democratic     56,011          98.6  \n",
      "Worcester & Middlesex                      Democratic     59,860          99.1  \n",
      "Worcester & Norfolk                        Republican     64,665          98.4  \n",
      "Worcester, Hampden, Hampshire & Middlesex  Democratic     44,021          54.4  \n",
      "First Worcester                            Democratic     56,545          98.1  \n",
      "Second Worcester                           Democratic     55,093          74.0  \n"
     ]
    }
   ],
   "source": [
    "#### 2015-2016 Senate ####\n",
    "contribution_df = pd.read_csv(\"../historical_model/test_data/contribution/senate/contribution_senate_2015_2016.csv\", header = None, names = column_names)\n",
    "contribution_df = contribution_df[['District', 'Amount']].set_index('District')\n",
    "\n",
    "pd43_df = pd.read_csv(\"../historical_model/test_data/pd43/senate/pd43_data_senate_districts_2015-2016.csv\")\n",
    "pd43_df['district'] = pd43_df['district'].replace('( and )',' & ', regex=True).replace('(\")','', regex=True)\n",
    "pd43_df = pd43_df[['district', 'name', 'sex', 'party', 'vote_count', 'vote_percent']].set_index('district').drop_duplicates()\n",
    "\n",
    "census_df = pd.read_csv(\"../historical_model/test_data/census/senate/census_senate_2015_2016_merge.csv\")\n",
    "census_df = census_df.set_index('Geography')\n",
    "\n",
    "df = combine_contribution_and_pd43_and_census(contribution_df, pd43_df, census_df)\n",
    "df.to_csv(\"../historical_model/test_data/merged_senate_districts_2015_2016.csv\")"
   ]
  },
  {
   "cell_type": "code",
   "execution_count": null,
   "metadata": {
    "collapsed": true
   },
   "outputs": [],
   "source": []
  },
  {
   "cell_type": "code",
   "execution_count": null,
   "metadata": {
    "collapsed": true
   },
   "outputs": [],
   "source": []
  }
 ],
 "metadata": {
  "kernelspec": {
   "display_name": "Python 3",
   "language": "python",
   "name": "python3"
  },
  "language_info": {
   "codemirror_mode": {
    "name": "ipython",
    "version": 3
   },
   "file_extension": ".py",
   "mimetype": "text/x-python",
   "name": "python",
   "nbconvert_exporter": "python",
   "pygments_lexer": "ipython3",
   "version": "3.6.1"
  }
 },
 "nbformat": 4,
 "nbformat_minor": 2
}
