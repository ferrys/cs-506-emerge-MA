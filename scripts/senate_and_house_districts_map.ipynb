{
 "cells": [
  {
   "cell_type": "code",
   "execution_count": 168,
   "metadata": {
    "collapsed": true
   },
   "outputs": [],
   "source": [
    "from bs4 import BeautifulSoup\n",
    "import requests\n",
    "import pandas as pd"
   ]
  },
  {
   "cell_type": "code",
   "execution_count": 175,
   "metadata": {
    "scrolled": true
   },
   "outputs": [
    {
     "name": "stderr",
     "output_type": "stream",
     "text": [
      "/Users/sarahferry/anaconda/lib/python3.6/site-packages/bs4/__init__.py:181: UserWarning: No parser was explicitly specified, so I'm using the best available HTML parser for this system (\"lxml\"). This usually isn't a problem, but if you run this code on another system, or in a different virtual environment, it may use a different parser and behave differently.\n",
      "\n",
      "The code that caused this warning is on line 193 of the file /Users/sarahferry/anaconda/lib/python3.6/runpy.py. To get rid of this warning, change code that looks like this:\n",
      "\n",
      " BeautifulSoup(YOUR_MARKUP})\n",
      "\n",
      "to this:\n",
      "\n",
      " BeautifulSoup(YOUR_MARKUP, \"lxml\")\n",
      "\n",
      "  markup_type=markup_type))\n"
     ]
    },
    {
     "name": "stdout",
     "output_type": "stream",
     "text": [
      "[<h2><a name=\"berkhampsfranhamp\"></a>Berkshire, Hampshire, Franklin &amp; Hampden</h2>, <h2><a name=\"brisnor\"></a>Bristol and Norfolk</h2>, <h2><a name=\"1brisply\"></a>First Bristol and Plymouth</h2>, <h2><a name=\"2brisply\"></a>Second Bristol and Plymouth</h2>, <h2><a name=\"cape\"></a>Cape and Islands</h2>, <h2><a name=\"1ess\"></a>First Essex</h2>, <h2><a name=\"2essx\"></a>Second Essex</h2>, <h2><a name=\"3essx\"></a>Third Essex</h2>, <h2><a name=\"1essxmid\"></a>First Essex and Middlesex</h2>, <h2><a name=\"2essxmid\"></a>Second Essex and Middlesex</h2>, <h2><a name=\"ham\"></a>Hampden</h2>, <h2><a name=\"1hamham\"></a>First Hampden and Hampshire</h2>, <h2><a name=\"2hamham\"></a>Second Hampden and Hampshire</h2>, <h2><a name=\"hampsfranwor\"></a>Hampshire, Franklin and Worcester</h2>, <h2><a name=\"1mid\"></a>First Middlesex</h2>, <h2><a name=\"2mid\"></a>Second Middlesex</h2>, <h2><a name=\"3mid\"></a>Third Middlesex</h2>, <h2><a name=\"4mid\"></a>Fourth Middlesex</h2>, <h2><a name=\"5mid\"></a>Fifth Middlesex</h2>, <h2><a name=\"1midnor\"></a>First Middlesex and Norfolk</h2>, <h2><a name=\"2midnor\"></a>Second Middlesex and Norfolk</h2>, <h2><a name=\"midsuff\"></a>Middlesex and Suffolk</h2>, <h2><a name=\"midwor\"></a>Middlesex and Worcester</h2>, <h2><a name=\"norbrismid\"></a>Norfolk, Bristol and Middlesex</h2>, <h2><a name=\"norbrisply\"></a>Norfolk, Bristol and Plymouth</h2>, <h2><a name=\"norply\"></a>Norfolk and Plymouth</h2>, <h2><a name=\"norsuf\"></a>Norfolk and Suffolk</h2>, <h2><a name=\"plybarn\"></a>Plymouth and Barnstable</h2>, <h2><a name=\"1plybris\"></a>First Plymouth and Bristol</h2>, <h2><a name=\"2plybris\"></a>Second Plymouth and Bristol</h2>, <h2><a name=\"plynor\"></a>Plymouth and Norfolk</h2>, <h2><a name=\"1suf\"></a>First Suffolk</h2>, <h2> <a name=\"2suf\"></a>Second Suffolk</h2>, <h2><a name=\"1suffmid\"></a>First Suffolk and Middlesex</h2>, <h2><a name=\"2sufmid\"></a>Second Suffolk and Middlesex</h2>, <h2><a name=\"1wor\"></a>First Worcester</h2>, <h2><a name=\"2wor\"></a>Second Worcester</h2>, <h2><a name=\"worhamphampsmid\"></a>Worcester, Hampden, Hampshire \r\n",
      "        and Middlesex</h2>, <h2><a name=\"wormid\"></a>Worcester and Middlesex</h2>, <h2><a name=\"wornor\"></a>Worcester and Norfolk</h2>]\n",
      "['Berkshire, Hampshire, Franklin & Hampden', 'Bristol and Norfolk', 'First Bristol and Plymouth', 'Second Bristol and Plymouth', 'Cape and Islands', 'First Essex', 'Second Essex', 'Third Essex', 'First Essex and Middlesex', 'Second Essex and Middlesex', 'Hampden', 'First Hampden and Hampshire', 'Second Hampden and Hampshire', 'Hampshire, Franklin and Worcester', 'First Middlesex', 'Second Middlesex', 'Third Middlesex', 'Fourth Middlesex', 'Fifth Middlesex', 'First Middlesex and Norfolk', 'Second Middlesex and Norfolk', 'Middlesex and Suffolk', 'Middlesex and Worcester', 'Norfolk, Bristol and Middlesex', 'Norfolk, Bristol and Plymouth', 'Norfolk and Plymouth', 'Norfolk and Suffolk', 'Plymouth and Barnstable', 'First Plymouth and Bristol', 'Second Plymouth and Bristol', 'Plymouth and Norfolk', 'First Suffolk', ' ', 'First Suffolk and Middlesex', 'Second Suffolk and Middlesex', 'First Worcester', 'Second Worcester', 'Worcester, Hampden, Hampshire \\r\\n        and Middlesex', 'Worcester and Middlesex', 'Worcester and Norfolk']\n",
      "['<h2><a name=\"berkhampsfranhamp\"></a>Berkshire, Hampshire, Franklin &amp; Hampden</h2>', '<h3>Berkshire County</h3>', '<p> Adams<br/>\\r', '        Alford<br/>\\r', '        Becket<br/>\\r', '        Cheshire<br/>\\r', '        Clarksburg<br/>\\r', '        Dalton<br/>\\r', '        Egremont<br/>\\r', '        Florida<br/>\\r', '        Great Barrington<br/>\\r', '        Hancock<br/>\\r', '        Hinsdale<br/>\\r', '        Lanesborough<br/>\\r', '        Lee<br/>\\r', '        Lenox<br/>\\r', '        Monterey<br/>\\r', '        Mount Washington<br/>\\r', '        New Ashford<br/>\\r', '        New Marlborough<br/>\\r', '        NORTH ADAMS<br/>\\r', '        Otis <br/>\\r', '        Peru<br/>\\r', '        PITTSFIELD<br/>\\r', '        Richmond<br/>\\r', '        Sandisfield<br/>\\r', '        Savoy<br/>\\r', '        Sheffield<br/>\\r', '        Stockbridge<br/>\\r', '        Tyringham<br/>\\r', '        Washington<br/>\\r', '        West Stockbridge<br/>\\r', '        Williamstown<br/>\\r', '        Windsor </p>', '<h3>Hampshire County</h3>', '<p>Chesterfield<br/>\\r', '        Cummington<br/>\\r', '        Goshen<br/>\\r', '        Huntington<br/>\\r', '        Middlefield<br/>\\r', '        Plainfield<br/>\\r', '        Westhampton<br/>\\r', '        Williamsburg<br/>\\r', '        Worthington </p>', '<h3>Franklin County</h3>', '<p>Ashfield<br/>\\r', '        Buckland<br/>\\r', '        Charlemont<br/>\\r', '        Conway<br/>\\r', '        Hawley<br/>\\r', '        Heath<br/>\\r', '        Monroe<br/>\\r', '        Rowe<br/>\\r', '        Shelburne</p>', '<h3>Hampden County</h3>', '<p> Blandford<br/>\\r', '        Chester</p>', '<h2><a name=\"brisnor\"></a>Bristol and Norfolk</h2>', '<h3>Bristol County</h3>', '<p>ATTLEBORO - Wd. 3, Pct. B;  Wds. 4, 5, 6<br/>\\r', '        Mansfield<br/>\\r', '        Norton<br/>\\r', '        Rehoboth<br/>\\r', '        Seekonk</p>', '<h3>Norfolk County</h3>', '<p> Foxborough<br/>\\r', '        Medfield<br/>\\r', '        Sharon - Pcts. 1, 4, 5<br/>\\r', '        Walpole</p>', '<h2><a name=\"1brisply\"></a>First Bristol and Plymouth</h2>', '<h3>Bristol County</h3>', '<p>FALL RIVER<br/>\\r', '        Freetown<br/>\\r', '        Somerset<br/>\\r', '        Swansea<br/>\\r', '        Westport<br/>', '</p>', '<h3>Plymouth County </h3>', '<p>Lakeville<br/>\\r', '        Rochester</p>', '<h2><a name=\"2brisply\"></a>Second Bristol and Plymouth</h2>', '<h3>Bristol County </h3>', '<p>Acushnet<br/>\\r', '        Dartmouth<br/>\\r', '        Fairhaven<br/>\\r', '        NEW BEDFORD </p>', '<h3>Plymouth County </h3>', '<p>Mattapoisett</p>', '<h2><a name=\"cape\"></a>Cape and Islands</h2>', '<h3>Barnstable County </h3>', '<p>Barnstable<br/>\\r', '        Brewster<br/>\\r', '        Chatham<br/>\\r', '        Dennis<br/>\\r', '        Eastham<br/>\\r', '        Harwich<br/>\\r', '        Mashpee<br/>\\r', '        Orleans<br/>\\r', '        Provincetown<br/>\\r', '        Truro<br/>\\r', '        Wellfleet<br/>\\r', '        Yarmouth </p>', '<h3>Dukes County </h3>', '<p> Aquinnah<br/>\\r', '        Chilmark<br/>\\r', '        Edgartown<br/>\\r', '        Gosnold<br/>\\r', '        Oak Bluffs<br/>\\r', '        Tisbury<br/>\\r', '        West Tisbury </p>', '<h3>Nantucket County </h3>', '<p>Nantucket</p>', '<h2><a name=\"1ess\"></a>First Essex</h2>', '<h3>Essex County </h3>', '<p> HAVERHILL<br/>\\r', '        NEWBURYPORT<br/>\\r', '        Amesbury<br/>\\r', '        Merrimac<br/>\\r', '        Methuen<br/>\\r', '        North Andover - Pcts. 1, 2, 3, 4 <br/>\\r', '        Salisbury </p>', '<h2><a name=\"2essx\"></a>Second Essex</h2>', '<h3>Essex County<br/>', '</h3>', '<p> BEVERLY<br/>\\r', '        PEABODY<br/>\\r', '        SALEM<br/>\\r', '        Danvers<br/>\\r', '        Topsfield</p>', '<h2><a name=\"3essx\"></a>Third Essex</h2>', '<h3>Essex County </h3>', '<p> LYNN<br/>\\r', '        Lynnfield<br/>\\r', '        Marblehead<br/>\\r', '        Nahant<br/>\\r', '        Saugus<br/>\\r', '        Swampscott</p>', '<h2><a name=\"1essxmid\"></a>First Essex and Middlesex</h2>', '<h3>Essex County </h3>', '<p> GLOUCESTER<br/>\\r', '        Boxford<br/>\\r', '        Essex<br/>\\r', '        Georgetown<br/>\\r', '        Groveland<br/>\\r', '        Hamilton<br/>\\r', '        Ipswich<br/>\\r', '        Manchester-by-the-Sea<br/>\\r', '        Middleton<br/>\\r', '        Newbury<br/>\\r', '        North Andover - Pcts. 5-8<br/>\\r', '        Rockport<br/>\\r', '        Rowley<br/>\\r', '        Wenham<br/>\\r', '        West Newbury </p>', '<h3>Middlesex County<br/>', '</h3>', '<p>North Reading<br/>\\r', '        Wilmington</p>', '<h2><a name=\"2essxmid\"></a>Second Essex and Middlesex</h2>', '<h3>Essex County </h3>', '<p>Andover<br/>\\r', '        LAWRENCE </p>', '<h3>Middlesex County </h3>', '<p>Dracut<br/>\\r', '        Tewksbury</p>', '<h2><a name=\"ham\"></a>Hampden</h2>', '<h3>Hampden County </h3>', '<p> CHICOPEE - Wds. 2-4<br/>\\r', '        SPRINGFIELD:\\r', '      </p><blockquote>Wd. 1<br/>\\r', '        Wd. 2, Pcts. A-F, H<br/>\\r', '        Wd. 3<br/>\\r', '        Wd. 4, Pcts. A-E, G, H<br/>\\r', '        Wd. 5, Pcts. A-C, E<br/>\\r', '        Wd. 6, Pcts. A, C, E-G<br/>\\r', '        Wd. 8, Pcts. B-H</blockquote>', '<p>West Springfield\\r', '        </p>', '<h2><a name=\"1hamham\"></a>First Hampden and Hampshire</h2>', '<h3>Hampden County </h3>', '<p> CHICOPEE:\\r', '      </p><blockquote> Wds. 1, 5, 6<br/>\\r', '        Wd. 8, Pct. B<br/>\\r', '        Wd. 9, Pct. B</blockquote>', '<p>SPRINGFIELD: </p>', '<blockquote> Wd. 2, Pct. G<br/>\\r', '        Wd. 4, Pct. F<br/>\\r', '        Wd. 5, Pcts. D, F-H<br/>\\r', '        Wd. 6, Pcts. B, D, H<br/>\\r', '        Wd. 7<br/>\\r', '        Wd. 8, Pct. A</blockquote>', '<p>East Longmeadow<br/>\\r', '        Hampden<br/>\\r', '        Longmeadow<br/>\\r', '        Ludlow<br/>\\r', '        Wilbraham\\r', '        </p>', '<h3>Hampshire County<br/>', '</h3>', '<p>Belchertown<br/>\\r', '        Granby</p>', '<h2><a name=\"2hamham\"></a>Second Hampden and Hampshire</h2>', '<h3>Hampden County </h3>', '<p> CHICOPEE:\\r', '      </p><blockquote> Wd. 7<br/>\\r', '        Wd. 8, Pct. A<br/>\\r', '        Wd. 9, Pct. A</blockquote>', '<p>HOLYOKE<br/>\\r', '        WESTFIELD<br/>\\r', '        Agawam<br/>\\r', '        Granville<br/>\\r', '        Montgomery<br/>\\r', '        Russell<br/>\\r', '        Southwick<br/>\\r', '        Tolland\\r', '        </p>', '<h3>Hampshire County </h3>', '<p>Easthampton<br/>\\r', '        Southampton</p>', '<h2><a name=\"hampsfranwor\"></a>Hampshire, Franklin and Worcester</h2>', '<h3>Hampshire County </h3>', '<p> NORTHAMPTON<br/>\\r', '        Amherst<br/>\\r', '        Hadley<br/>\\r', '        Hatfield<br/>\\r', '        Pelham<br/>\\r', '        South Hadley<br/>', '</p>', '<h3>Franklin County </h3>', '<p>Bernardston<br/>\\r', '        Colrain<br/>\\r', '        Deerfield<br/>\\r', '        Erving<br/>\\r', '        Gill<br/>\\r', '        Greenfield<br/>\\r', '        Leverett<br/>\\r', '        Leyden<br/>\\r', '        Montague<br/>\\r', '        New Salem<br/>\\r', '        Northfield<br/>\\r', '        Orange<br/>\\r', '        Shutesbury<br/>\\r', '        Sunderland<br/>\\r', '        Warwick<br/>\\r', '        Wendell<br/>\\r', '        Whately</p>', '<h3>Worcester County</h3>', '<p> Royalston</p>', '<h2><a name=\"1mid\"></a>First Middlesex</h2>', '<h3>Middlesex County </h3>', '<p> Dunstable<br/>\\r', '        Groton<br/>\\r', '        LOWELL<br/>\\r', '        Pepperell<br/>\\r', '        Tyngsborough<br/>\\r', '        Westford</p>', '<h2><a name=\"2mid\"></a>Second Middlesex</h2>', '<h3>Middlesex County </h3>', '<p> CAMBRIDGE - Wds. 9, 10, 11 <br/>\\r', '        MEDFORD<br/>\\r', '        SOMERVILLE<br/>\\r', '        Winchester - Pcts. 4, 5, 6, 7<br/>', '</p>', '<h2><a name=\"3mid\"></a>Third Middlesex</h2>', '<h3>Middlesex County </h3>', '<p> Bedford <br/>\\r', '        Carlisle <br/>\\r', '        Chelmsford<br/>\\r', '        Concord <br/>\\r', '        Lexington - Pcts. 3, 8, 9<br/>\\r', '        Lincoln<br/>\\r', '        Sudbury - Pcts. 1, 4, 5<br/>\\r', '        WALTHAM<br/>\\r', '        Weston </p>', '<h2><a name=\"4mid\"></a>Fourth Middlesex</h2>', '<h3>Middlesex County </h3>', '<p>Arlington<br/>\\r', '        Billerica<br/>\\r', '        Burlington<br/>\\r', '        Lexington - Pcts. 1, 2, 4, 5, 6, 7<br/>\\r', '        WOBURN</p>', '<h2><a name=\"5mid\"></a>Fifth Middlesex</h2>', '<h3>Middlesex County </h3>', '<p> MALDEN<br/>\\r', '        MELROSE<br/>\\r', '        Reading<br/>\\r', '        Stoneham<br/>\\r', '        Wakefield<br/>\\r', '        Winchester - Pcts. 1, 2, 3, 8</p>', '<h2><a name=\"1midnor\"></a>First Middlesex and Norfolk</h2>', '<h3>Middlesex County </h3>', '<p> NEWTON </p>', '<h3>Norfolk County </h3>', '<p> Brookline<br/>\\r', '        Wellesley - Pcts. A, C-E, H</p>', '<h2><a name=\"2midnor\"></a>Second Middlesex and Norfolk</h2>', '<h3>Middlesex County </h3>', '<p> Ashland<br/>\\r', '        Framingham<br/>\\r', '        Holliston<br/>\\r', '        Hopkinton<br/>\\r', '        Natick - Pcts. 1, 2, 3, 4, 5, 8 </p>', '<h3>Norfolk County </h3>', '<p> Franklin - Pcts. 5, 6, 7, 8<br/>\\r', '        Medway</p>', '<h2><a name=\"midsuff\"></a>Middlesex and Suffolk</h2>', '<h3>Middlesex County </h3>', '<p>CAMBRIDGE:\\r', '      </p><blockquote> Wd. 1<br/>\\r', '        Wd. 2, Pct. 1<br/>\\r', '        Wd. 3<br/>\\r', '        Wd. 4, Pct. 2<br/>\\r', '        Wds. 6-8</blockquote>', '<p>EVERETT\\r', '        </p>', '<h3>Suffolk County </h3>', '<p>BOSTON:\\r', '      </p><blockquote> Wd. 2<br/>\\r', '        Wd. 3, Pct. 5<br/>\\r', '        Wd. 21, Pcts. 4, 6, 7<br/>\\r', '        Wd. 22, Pcts. 1, 2, 5</blockquote>', '<p>CHELSEA\\r', '        </p>', '<h2><a name=\"midwor\"></a>Middlesex and Worcester</h2>', '<h3>Middlesex County </h3>', '<p> Acton<br/>\\r', '        Ayer<br/>\\r', '        Boxborough<br/>\\r', '        Hudson<br/>\\r', '        Littleton<br/>\\r', '        MARLBOROUGH<br/>\\r', '        Maynard<br/>\\r', '        Shirley<br/>\\r', '        Stow<br/>\\r', '        Sudbury - Pcts. 2, 3<br/>', '</p>', '<h3>Worcester County </h3>', '<p> Harvard<br/>\\r', '        Northborough - Pct. 3<br/>\\r', '        Southborough<br/>\\r', '        Westborough </p>', '<h2><a name=\"norbrismid\"></a>Norfolk, Bristol and Middlesex</h2>', '<h3>Norfolk County </h3>', '<p>Franklin - Pcts. 1, 2, 3, 4, 7<br/>\\r', '        Millis<br/>\\r', '        Needham - Pcts. A, C, I, J<br/>\\r', '        Norfolk<br/>\\r', '        Plainville<br/>\\r', '        Wellesley - Pcts. B, F, G<br/>\\r', '        Wrentham </p>', '<h3>Bristol County </h3>', '<p> ATTLEBORO:\\r', '      </p><blockquote> Wds. 1, 2 <br/>\\r', '        Wd. 3, Pct. A</blockquote>', '<p>North Attleborough\\r', '        </p>', '<h3>Middlesex County </h3>', '<p> Natick - Pcts. 6, 7, 9, 10<br/>\\r', '        Sherborn<br/>\\r', '        Wayland</p>', '<h2><a name=\"norbrisply\"></a>Norfolk, Bristol and Plymouth</h2>', '<h3>Norfolk County </h3>', '<p> Avon<br/>\\r', '        Braintree - Pcts. 1A, 1B, 2A, 2B<br/>\\r', '        Canton<br/>\\r', '        Milton<br/>\\r', '        Randolph<br/>\\r', '        Sharon - Pcts. 2, 3<br/>\\r', '        Stoughton </p>', '<h3>Bristol County </h3>', '<p>Easton - Pcts. 3, 4, 5, 6 </p>', '<h3>Plymouth County </h3>', '<p>East Bridgewater - Pct. 4<br/>\\r', '        West Bridgewater</p>', '<h2><a name=\"norply\"></a>Norfolk and Plymouth</h2>', '<h3>Norfolk County </h3>', '<p> Braintree - Pcts. 3A, 3B, 4A, 4B, 5A, 5B, 6A, 6B<br/>\\r', '        Holbrook<br/>\\r', '        QUINCY </p>', '<h3>Plymouth County </h3>', '<p> Abington<br/>\\r', '        Rockland</p>', '<h2><a name=\"norsuf\"></a>Norfolk and Suffolk</h2>', '<h3>Suffolk County </h3>', '<p>Boston:\\r', '      </p><blockquote> Wd. 18, Pcts. 9, 10, 16- 20, 23<br/>\\r', '        Wd. 19, Pcts. 10- 13<br/>\\r', '        Wd. 20</blockquote>', '<h3>Norfolk County</h3>', '<p> Dover<br/>\\r', '        Dedham<br/>\\r', '        Needham - Pcts. D-H<br/>\\r', '        Norwood<br/>\\r', '        Westwood</p>', '<h2><a name=\"plybarn\"></a>Plymouth and Barnstable</h2>', '<h3>Plymouth County </h3>', '<p> Kingston<br/>\\r', '        Pembroke<br/>\\r', '        Plymouth </p>', '<h3>Barnstable County </h3>', '<p> Bourne<br/>\\r', '        Falmouth<br/>\\r', '        Sandwich</p>', '<h2><a name=\"1plybris\"></a>First Plymouth and Bristol</h2>', '<h3>Plymouth County </h3>', '<p>Bridgewater<br/>\\r', '        Carver<br/>\\r', '        Marion<br/>\\r', '        Middleborough<br/>\\r', '        Wareham </p>', '<h3>Bristol County </h3>', '<p>Berkley<br/>\\r', '        Dighton<br/>\\r', '        Raynham<br/>\\r', '        TAUNTON</p>', '<h2><a name=\"2plybris\"></a>Second Plymouth and Bristol</h2>', '<h3>Plymouth County </h3>', '<p>BROCKTON<br/>\\r', '        East Bridgewater - Pcts. 1, 2, 3<br/>\\r', '        Halifax<br/>\\r', '        Hanover<br/>\\r', '        Hanson<br/>\\r', '        Plympton<br/>\\r', '        Whitman </p>', '<h3>Bristol County </h3>', '<p> Easton - Pcts. 1, 2 </p>', '<h2><a name=\"plynor\"></a>Plymouth and Norfolk</h2>', '<h3>Plymouth County </h3>', '<p>Duxbury<br/>\\r', '        Hingham<br/>\\r', '        Hull<br/>\\r', '        Marshfield<br/>\\r', '        Norwell<br/>\\r', '        Scituate<br/>', '</p>', '<h3>Norfolk County </h3>', '<p>Cohasset<br/>\\r', '        Weymouth</p>', '<h2><a name=\"1suf\"></a>First Suffolk</h2>', '<h3>Suffolk County </h3>', '<p>BOSTON:\\r', '      </p><blockquote> Wd. 1, Pct. 15<br/>\\r', '        Wds. 6, 7<br/>\\r', '        Wd. 13, Pcts. 3, 5-10<br/>\\r', '        Wd. 14, Pcts. 2, 4, 5, 12-14<br/>\\r', '        Wds. 15-17<br/>\\r', '        Wd. 18, Pcts. 1-6, 13, 15, 21</blockquote>', '<h2> <a name=\"2suf\"></a>Second Suffolk</h2>', '<h3>Suffolk County </h3>', '<p>BOSTON:\\r', '      </p><blockquote> Wd. 3, Pct. 7<br/>\\r', '        Wd. 4, Pcts. 1, 3, 4<br/>\\r', '        Wds. 8-12<br/>\\r', '        Wd. 13, Pcts. 1, 2, 4<br/>\\r', '        Wd. 14, Pcts. 1, 3, 6-11<br/>\\r', '        Wd. 18, Pcts. 7, 8, 11, 12, 14, 22<br/>\\r', '        Wd. 19, Pcts. 1-9 </blockquote>', '<h2><a name=\"1suffmid\"></a>First Suffolk and Middlesex</h2>', '<h3>Suffolk County </h3>', '<p>BOSTON:\\r', '      </p><blockquote> Wd. 1, Pcts. 1-14<br/>\\r', '        Wd. 3, Pcts. 1-4, 6, 8<br/>\\r', '        Wd. 5, Pcts. 1, 3-5, 11 </blockquote>', '<p>REVERE<br/>\\r', '        Winthrop<br/>', '</p>', '<h3>Middlesex County </h3>', '<p>CAMBRIDGE:\\r', '      </p><blockquote> Wd. 2, Pcts. 2, 3<br/>\\r', '        Wd. 4, Pcts. 1, 3<br/>\\r', '        Wd. 5</blockquote>', '<h2><a name=\"2sufmid\"></a>Second Suffolk and Middlesex</h2>', '<h3>Suffolk County </h3>', '<p>BOSTON:\\r', '      </p><blockquote> Wd. 4, Pcts. 2, 5-10,<br/>\\r', '        Wd. 5, Pcts. 2, 6-10<br/>\\r', '        Wd. 21, Pcts. 1-3, 5, 8-16<br/>\\r', '        Wd. 22, Pcts. 3, 4, 6-13 </blockquote>', '<h3>Middlesex County </h3>', '<p> Belmont<br/>\\r', '        Watertown</p>', '<h2><a name=\"1wor\"></a>First Worcester</h2>', '<h3>Worcester County </h3>', '<p> Boylston<br/>\\r', '        Clinton - Pcts. 3, 4<br/>\\r', '        Holden<br/>\\r', '        Northborough - Pcts. 1, 2, 4<br/>\\r', '        Princeton<br/>\\r', '        West Boylston<br/>\\r', '        WORCESTER:\\r', '      </p><blockquote> Wds. 1-4<br/>\\r', '        Wd. 8, Pcts. 2-4<br/>\\r', '        Wds. 9, 10</blockquote>', '<h2><a name=\"2wor\"></a>Second Worcester</h2>', '<h3>Worcester County </h3>', '<p>Auburn<br/>\\r', '        Grafton<br/>\\r', '        Leicester<br/>\\r', '        Millbury<br/>\\r', '        Northbridge - Pcts. 2,4<br/>\\r', '        Shrewsbury<br/>\\r', '        Upton<br/>\\r', '        WORCESTER:\\r', '      </p><blockquote> Wds. 5-7<br/>\\r', '        Wd. 8, Pcts. 1, 5 </blockquote>', '<h2><a name=\"worhamphampsmid\"></a>Worcester, Hampden, Hampshire \\r', '        and Middlesex</h2>', '<h3>Worcester County </h3>', '<p> Ashburnham<br/>\\r', '        Athol<br/>\\r', '        Barre<br/>\\r', '        Brookfield<br/>\\r', '        Charlton<br/>\\r', '        East Brookfield<br/>\\r', '        Hardwick<br/>\\r', '        Hubbardston<br/>\\r', '        New Braintree<br/>\\r', '        North Brookfield<br/>\\r', '        Oakham<br/>\\r', '        Paxton<br/>\\r', '        Petersham<br/>\\r', '        Phillipston<br/>\\r', '        Rutland<br/>\\r', '        Spencer<br/>\\r', '        Sturbridge<br/>\\r', '        Templeton<br/>\\r', '        Warren<br/>\\r', '        West Brookfield<br/>\\r', '        Winchendon </p>', '<h3>Hampden County </h3>', '<p>Brimfield<br/>\\r', '        Holland<br/>\\r', '        Monson<br/>\\r', '        Palmer <br/>\\r', '        Wales </p>', '<h3>Hampshire County </h3>', '<p>Ware<br/>', '</p>', '<h3>Middlesex County </h3>', '<p>Ashby</p>', '<h2><a name=\"wormid\"></a>Worcester and Middlesex</h2>', '<h3>Worcester County </h3>', '<p> FITCHBURG<br/>\\r', '        GARDNER<br/>\\r', '        LEOMINSTER<br/>\\r', '        Berlin<br/>\\r', '        Bolton<br/>\\r', '        Clinton - Pcts. 1, 2<br/>\\r', '        Lancaster<br/>\\r', '        Lunenburg<br/>\\r', '        Sterling<br/>\\r', '        Westminster </p>', '<h3>Middlesex County </h3>', '<p>Townsend</p>', '<h2><a name=\"wornor\"></a>Worcester and Norfolk</h2>', '<h3>Worcester County<br/>', '</h3>', '<p> Blackstone<br/>\\r', '        Douglas<br/>\\r', '        Dudley<br/>\\r', '        Hopedale<br/>\\r', '        Mendon<br/>\\r', '        Milford<br/>\\r', '        Millville<br/>\\r', '        Northbridge - Pcts. 1, 3<br/>\\r', '        Oxford<br/>\\r', '        Southbridge<br/>\\r', '        Sutton<br/>\\r', '        Uxbridge<br/>\\r', '        Webster<br/>', '</p>', '<h3>Norfolk County<br/>', '</h3>', '<p>Bellingham</p>']\n",
      "Berkshire, Hampshire, Franklin & Hampden\n",
      "Bristol and Norfolk\n",
      "First Bristol and Plymouth\n",
      "Second Bristol and Plymouth\n",
      "Cape and Islands\n",
      "First Essex\n",
      "Second Essex\n",
      "Third Essex\n",
      "First Essex and Middlesex\n",
      "Second Essex and Middlesex\n",
      "Hampden\n",
      "First Hampden and Hampshire\n",
      "Second Hampden and Hampshire\n",
      "Hampshire, Franklin and Worcester\n",
      "First Middlesex\n",
      "Second Middlesex\n",
      "Third Middlesex\n",
      "Fourth Middlesex\n",
      "Fifth Middlesex\n",
      "First Middlesex and Norfolk\n",
      "Second Middlesex and Norfolk\n",
      "Middlesex and Suffolk\n",
      "Middlesex and Worcester\n",
      "Norfolk, Bristol and Middlesex\n",
      "Norfolk, Bristol and Plymouth\n",
      "Norfolk and Plymouth\n",
      "Norfolk and Suffolk\n",
      "Plymouth and Barnstable\n",
      "First Plymouth and Bristol\n",
      "Second Plymouth and Bristol\n",
      "Plymouth and Norfolk\n",
      "First Suffolk\n",
      " \n",
      "First Suffolk and Middlesex\n",
      "Second Suffolk and Middlesex\n",
      "First Worcester\n",
      "Second Worcester\n",
      "Worcester, Hampden, Hampshire \r\n",
      "        and Middlesex\n",
      "Worcester and Middlesex\n",
      "Worcester and Norfolk\n"
     ]
    }
   ],
   "source": [
    "user_agent = \"Mozilla/5.0 (Macintosh; Intel Mac OS X 10_10_2) AppleWebKit/537.36 (KHTML, like Gecko) Chrome/41.0.2272.76 Safari/537.36\"\n",
    "\n",
    "headers = { 'User-Agent' : user_agent }\n",
    "\n",
    "# Given the url, request the HTML page\n",
    "senate_response = requests.get(\"https://www.sec.state.ma.us/ele/eledist/sen11idx.htm\", headers=headers)\n",
    "senate_html = senate_response.text.encode('utf-8')\n",
    "\n",
    "senate_soup = BeautifulSoup(senate_html)\n",
    "senate_content = senate_soup.find('div', {'id':'content_third'})\n",
    "\n",
    "senate_districts_all = senate_soup.findAll('h2')\n",
    "\n",
    "senate_districts = []\n",
    "for i in senate_districts_all:\n",
    "    senate_districts += [i.find(text=True)]\n",
    "print(senate_districts)\n",
    "senate_counties = senate_soup.findAll('h3')\n",
    "senate_content = str(senate_content).split('\\n')[8:-2]\n",
    "print(senate_content)\n",
    "senate_district_index = -1\n",
    "senate_dict = {}\n",
    "flag = False\n",
    "for string in senate_content:\n",
    "    if string.startswith('      </p><blockquote>'): \n",
    "        flag = True\n",
    "        continue\n",
    "    if string.endswith('</blockquote>'): \n",
    "        flag = False\n",
    "        continue\n",
    "    if flag: continue\n",
    "    if string == '</h3>': continue\n",
    "    if string.endswith('</h2>'):\n",
    "        senate_district_index += 1\n",
    "        print(senate_districts[senate_district_index])\n",
    "    if string.startswith('<h2>'): continue\n",
    "    if string.startswith('<h3>'): continue\n",
    "\n",
    "    string = string.replace(\"        \", \"\").replace(\"</p>\", \"\").replace(\"<p> \", \"\").replace(\"<p>\", \"\").replace(\"<br/>\\r\", \"\").replace(\"\\r\", \"\").replace(\"<br/>\", \"\").replace('      <blockquote>', '').replace('</blockquote>', '')\n",
    "\n",
    "    senate_dict[string] = [senate_districts[senate_district_index]]\n",
    "    \n",
    "senate_df = pd.DataFrame.from_dict(senate_dict,orient='index')\n",
    "\n",
    "senate_df.to_csv(\"senate_districts_mapped.csv\")"
   ]
  },
  {
   "cell_type": "code",
   "execution_count": 164,
   "metadata": {},
   "outputs": [
    {
     "name": "stderr",
     "output_type": "stream",
     "text": [
      "/Users/sarahferry/anaconda/lib/python3.6/site-packages/bs4/__init__.py:181: UserWarning: No parser was explicitly specified, so I'm using the best available HTML parser for this system (\"lxml\"). This usually isn't a problem, but if you run this code on another system, or in a different virtual environment, it may use a different parser and behave differently.\n",
      "\n",
      "The code that caused this warning is on line 193 of the file /Users/sarahferry/anaconda/lib/python3.6/runpy.py. To get rid of this warning, change code that looks like this:\n",
      "\n",
      " BeautifulSoup(YOUR_MARKUP})\n",
      "\n",
      "to this:\n",
      "\n",
      " BeautifulSoup(YOUR_MARKUP, \"lxml\")\n",
      "\n",
      "  markup_type=markup_type))\n"
     ]
    }
   ],
   "source": [
    "user_agent = \"Mozilla/5.0 (Macintosh; Intel Mac OS X 10_10_2) AppleWebKit/537.36 (KHTML, like Gecko) Chrome/41.0.2272.76 Safari/537.36\"\n",
    "\n",
    "headers = { 'User-Agent' : user_agent }\n",
    "\n",
    "# Given the url, request the HTML page\n",
    "house_response = requests.get(\"https://www.sec.state.ma.us/ele/eledist/reps11idx.htm\", headers=headers)\n",
    "house_html = house_response.text.encode('utf-8')\n",
    "\n",
    "house_soup = BeautifulSoup(house_html)\n",
    "house_content = house_soup.find('div', {'id':'content_third'})\n",
    "\n",
    "house_districts_all = house_soup.findAll('h3')\n",
    "\n",
    "house_districts = []\n",
    "for i in house_districts_all:\n",
    "    house_districts += [i.find(text=True)]\n",
    "house_content = str(house_content).split('\\n')[23:]\n",
    "\n",
    "house_district_index = -1\n",
    "house_dict = {}\n",
    "flag = False\n",
    "for string in house_content:\n",
    "    if string == '</h3>' or string == \"</div>\": continue\n",
    "    if string.startswith('<h2>'): continue\n",
    "    if string.startswith('<h3>'):\n",
    "        house_district_index += 1\n",
    "        continue\n",
    "    if string.endswith('</h3>'): continue\n",
    "    if string.endswith('</h2>'): continue\n",
    "    if string.startswith('<p class=\"indent\">'):\n",
    "        flag = True\n",
    "        continue\n",
    "    if string.endswith('</p>') and flag:\n",
    "        flag = False\n",
    "        continue\n",
    "    if flag: continue\n",
    "\n",
    "\n",
    "        \n",
    "    string = string.replace(\"        \", \"\").replace(\"</p>\", \"\").replace(\"<p> \", \"\").replace(\"<p>\", \"\").replace(\"<br/>\\r\", \"\").replace(\"\\r\", \"\").replace(\"<br/>\", \"\").replace('<p class=\"indent\">', '')\n",
    "    \n",
    "    house_dict[string] = [house_districts[house_district_index]]\n",
    "        \n",
    "house_df = pd.DataFrame.from_dict(house_dict,orient='index')\n",
    "\n",
    "house_df.to_csv(\"house_districts_mapped.csv\")\n",
    "\n"
   ]
  },
  {
   "cell_type": "code",
   "execution_count": null,
   "metadata": {
    "collapsed": true
   },
   "outputs": [],
   "source": []
  }
 ],
 "metadata": {
  "kernelspec": {
   "display_name": "Python 3",
   "language": "python",
   "name": "python3"
  },
  "language_info": {
   "codemirror_mode": {
    "name": "ipython",
    "version": 3
   },
   "file_extension": ".py",
   "mimetype": "text/x-python",
   "name": "python",
   "nbconvert_exporter": "python",
   "pygments_lexer": "ipython3",
   "version": "3.6.1"
  }
 },
 "nbformat": 4,
 "nbformat_minor": 2
}
