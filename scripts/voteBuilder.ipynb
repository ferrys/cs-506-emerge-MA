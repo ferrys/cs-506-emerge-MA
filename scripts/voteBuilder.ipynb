{
 "cells": [
  {
   "cell_type": "code",
   "execution_count": 25,
   "metadata": {},
   "outputs": [],
   "source": [
    "import pandas as pd\n",
    "\n",
    "voteBuilderSenate = pd.DataFrame.from_csv('data/VoteBuilder_Senate_processed.csv')\n",
    "voteBuilderHouse = pd.DataFrame.from_csv('data/VoteBuilder_House_processed.csv')"
   ]
  },
  {
   "cell_type": "code",
   "execution_count": null,
   "metadata": {
    "collapsed": true
   },
   "outputs": [],
   "source": [
    "from bs4 import BeautifulSoup\n",
    "\n",
    "senate_url = 'http://electionstats.state.ma.us/elections/search/year_from:2014/year_to:2017/office_id:9/stage:General/show_details:1'\n",
    "house_url = 'http://electionstats.state.ma.us/elections/search/year_from:2014/year_to:2017/office_id:8/stage:General/show_details:1'\n"
   ]
  }
 ],
 "metadata": {
  "kernelspec": {
   "display_name": "Python 3",
   "language": "python",
   "name": "python3"
  },
  "language_info": {
   "codemirror_mode": {
    "name": "ipython",
    "version": 3
   },
   "file_extension": ".py",
   "mimetype": "text/x-python",
   "name": "python",
   "nbconvert_exporter": "python",
   "pygments_lexer": "ipython3",
   "version": "3.6.1"
  }
 },
 "nbformat": 4,
 "nbformat_minor": 2
}
