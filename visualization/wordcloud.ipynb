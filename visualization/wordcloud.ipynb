{
 "cells": [
  {
   "cell_type": "code",
   "execution_count": 37,
   "metadata": {
    "collapsed": true
   },
   "outputs": [],
   "source": [
    "from wordcloud import WordCloud\n",
    "from PIL import Image\n",
    "import pandas as pd"
   ]
  },
  {
   "cell_type": "code",
   "execution_count": 68,
   "metadata": {},
   "outputs": [],
   "source": [
    "house_df = pd.read_csv(\"../votebuilder_model/house_features.csv\",header=None, names=['Feature', 'Significance'], index_col=0)\n",
    "house_df['Significance'] = house_df['Significance'].apply(lambda x: x+1)\n",
    "house_feature_dict = house_df.to_dict()['Significance']\n",
    "\n",
    "senate_df = pd.read_csv(\"../votebuilder_model/senate_features.csv\",header=None, names=['Feature', 'Significance'], index_col=0)\n",
    "senate_df['Significance'] = senate_df['Significance'].apply(lambda x: x+1)\n",
    "senate_feature_dict = senate_df.to_dict()['Significance']\n"
   ]
  },
  {
   "cell_type": "code",
   "execution_count": 69,
   "metadata": {
    "collapsed": true
   },
   "outputs": [],
   "source": [
    "mask = np.array(Image.open(\"mass_mask.png\"))"
   ]
  },
  {
   "cell_type": "code",
   "execution_count": 70,
   "metadata": {},
   "outputs": [
    {
     "data": {
      "text/plain": [
       "<wordcloud.wordcloud.WordCloud at 0x10b15f7b8>"
      ]
     },
     "execution_count": 70,
     "metadata": {},
     "output_type": "execute_result"
    }
   ],
   "source": [
    "WC = WordCloud(background_color = \"white\", mask = mask)\n",
    "WC.generate_from_frequencies(frequencies=senate_feature_dict)\n",
    "WC.to_file('results/senate_wordcloud.png')"
   ]
  },
  {
   "cell_type": "code",
   "execution_count": 71,
   "metadata": {},
   "outputs": [
    {
     "data": {
      "text/plain": [
       "<wordcloud.wordcloud.WordCloud at 0x10b15fa20>"
      ]
     },
     "execution_count": 71,
     "metadata": {},
     "output_type": "execute_result"
    }
   ],
   "source": [
    "WC = WordCloud(background_color = \"white\", mask = mask)\n",
    "WC.generate_from_frequencies(frequencies=house_feature_dict)\n",
    "WC.to_file('results/house_wordcloud.png')"
   ]
  },
  {
   "cell_type": "code",
   "execution_count": null,
   "metadata": {
    "collapsed": true
   },
   "outputs": [],
   "source": []
  }
 ],
 "metadata": {
  "kernelspec": {
   "display_name": "Python 3",
   "language": "python",
   "name": "python3"
  },
  "language_info": {
   "codemirror_mode": {
    "name": "ipython",
    "version": 3
   },
   "file_extension": ".py",
   "mimetype": "text/x-python",
   "name": "python",
   "nbconvert_exporter": "python",
   "pygments_lexer": "ipython3",
   "version": "3.6.1"
  }
 },
 "nbformat": 4,
 "nbformat_minor": 2
}
