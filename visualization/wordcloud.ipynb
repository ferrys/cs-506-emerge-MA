{
 "cells": [
  {
   "cell_type": "code",
   "execution_count": 31,
   "metadata": {
    "collapsed": true
   },
   "outputs": [],
   "source": [
    "from wordcloud import WordCloud\n",
    "from PIL import Image"
   ]
  },
  {
   "cell_type": "code",
   "execution_count": 32,
   "metadata": {
    "collapsed": true
   },
   "outputs": [],
   "source": [
    "mask = np.array(Image.open(\"mass_mask.png\"))"
   ]
  },
  {
   "cell_type": "code",
   "execution_count": 35,
   "metadata": {},
   "outputs": [
    {
     "data": {
      "text/plain": [
       "<wordcloud.wordcloud.WordCloud at 0x1082c8400>"
      ]
     },
     "execution_count": 35,
     "metadata": {},
     "output_type": "execute_result"
    }
   ],
   "source": [
    "senate_feature_dict = {\"Hello\": .9, \"World\": .1, \"This\": .6, \"Is\": .2, \"Fun\": .3, \"Test\": .7, \"Cat\": .6, \"Dog\": .8, \"Diamond\": .4, \"Hi\": .9, \"Worlds\": .1, \"Dance\": .6, \"Jump\": .2, \"Run\": .3, \"Hola\": .7, \"Meow\": .6, \"Woof\": .8, \"Gem\": .4}\n",
    "WC = WordCloud(background_color = \"white\", mask = mask)\n",
    "WC.generate_from_frequencies(frequencies=senate_feature_dict)\n",
    "WC.to_file('results/senate_wordcloud.png')"
   ]
  },
  {
   "cell_type": "code",
   "execution_count": 36,
   "metadata": {},
   "outputs": [
    {
     "data": {
      "text/plain": [
       "<wordcloud.wordcloud.WordCloud at 0x1082c8b00>"
      ]
     },
     "execution_count": 36,
     "metadata": {},
     "output_type": "execute_result"
    }
   ],
   "source": [
    "house_feature_dict = {\"Hello\": .9, \"World\": .1, \"This\": .6, \"Is\": .2, \"Fun\": .3, \"Test\": .7, \"Cat\": .6, \"Dog\": .8, \"Diamond\": .4, \"Hi\": .9, \"Worlds\": .1, \"Dance\": .6, \"Jump\": .2, \"Run\": .3, \"Hola\": .7, \"Meow\": .6, \"Woof\": .8, \"Gem\": .4}\n",
    "WC = WordCloud(background_color = \"white\", mask = mask)\n",
    "WC.generate_from_frequencies(frequencies=house_feature_dict)\n",
    "WC.to_file('results/house_wordcloud.png')"
   ]
  },
  {
   "cell_type": "code",
   "execution_count": null,
   "metadata": {
    "collapsed": true
   },
   "outputs": [],
   "source": []
  }
 ],
 "metadata": {
  "kernelspec": {
   "display_name": "Python 3",
   "language": "python",
   "name": "python3"
  },
  "language_info": {
   "codemirror_mode": {
    "name": "ipython",
    "version": 3
   },
   "file_extension": ".py",
   "mimetype": "text/x-python",
   "name": "python",
   "nbconvert_exporter": "python",
   "pygments_lexer": "ipython3",
   "version": "3.6.1"
  }
 },
 "nbformat": 4,
 "nbformat_minor": 2
}
