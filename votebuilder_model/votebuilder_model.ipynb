{
 "cells": [
  {
   "cell_type": "code",
   "execution_count": 91,
   "metadata": {
    "collapsed": false
   },
   "outputs": [],
   "source": [
    "import pandas as pd\n",
    "import numpy as np\n",
    "import statsmodels.api as sm\n",
    "from pandas.core import datetools\n",
    "from sklearn.model_selection import LeaveOneOut\n",
    "from sklearn.metrics import accuracy_score\n",
    "from sklearn.linear_model import LogisticRegression as LR\n",
    "from sklearn.neighbors import KNeighborsClassifier as KNN\n",
    "from scipy import stats\n",
    "from sklearn.model_selection import train_test_split as tt_split\n",
    "from sklearn.feature_selection import RFE\n",
    "from sklearn.feature_selection import chi2\n",
    "import csv"
   ]
  },
  {
   "cell_type": "code",
   "execution_count": 4,
   "metadata": {
    "collapsed": true
   },
   "outputs": [],
   "source": [
    "def read_dataset(path):\n",
    "    data = pd.read_csv(path)\n",
    "    return data"
   ]
  },
  {
   "cell_type": "code",
   "execution_count": 5,
   "metadata": {
    "collapsed": true
   },
   "outputs": [],
   "source": [
    "senate_name_dict = {}\n",
    "house_name_dict = {}\n",
    "name_dict = {}\n",
    "def enumerate_districts(df, type=None):\n",
    "    names = df['District']\n",
    "    count = 0\n",
    "    for name in names:\n",
    "        if type == \"Senate\":\n",
    "            if name not in senate_name_dict:\n",
    "                senate_name_dict[name] = count\n",
    "                count += 1\n",
    "        elif type == \"House\":\n",
    "            if name not in house_name_dict:\n",
    "                house_name_dict[name] = count\n",
    "                count += 1\n",
    "        else:\n",
    "            if name not in name_dict:\n",
    "                name_dict[name] = count\n",
    "                count += 1"
   ]
  },
  {
   "cell_type": "code",
   "execution_count": 6,
   "metadata": {
    "collapsed": true
   },
   "outputs": [],
   "source": [
    "def replace_district(x, type=None):\n",
    "    if type == \"Senate\":\n",
    "        return senate_name_dict[x]\n",
    "    elif type == \"House\":\n",
    "        return house_name_dict[x]\n",
    "    else:\n",
    "        return name_dict[x]"
   ]
  },
  {
   "cell_type": "code",
   "execution_count": 80,
   "metadata": {
    "collapsed": true
   },
   "outputs": [],
   "source": [
    "# this will be different than historical_model\n",
    "def clean_data(df, type=None):\n",
    "    # make all text binary\n",
    "    df = df.drop(\"name\", axis=1)\n",
    "    df = df.drop(\"Unnamed: 0\", axis=1)\n",
    "    df['sex'].replace('f', 1, inplace=True)\n",
    "    df['sex'].replace('m', 0, inplace=True)\n",
    "    df['party'].replace('Democratic', 1, inplace=True)\n",
    "    df['party'].replace('Republican', 0, inplace=True)\n",
    "    \n",
    "    # fill NaN's with mean from column\n",
    "    df['sex'] = df['sex'].fillna(round(df['sex'].mean()))\n",
    "    df['party'] = df['party'].fillna(df['party'].mean())\n",
    "    df['Amount'] = df['Amount'].fillna(df['Amount'].mean())\n",
    "    df['District'] = df[\"District\"].apply(lambda x: replace_district(x, type))\n",
    "    \n",
    "    for col in df.columns:\n",
    "        if col == \"vote_count\":\n",
    "            continue\n",
    "        if df[col].dtype != float and df[col].dtype != int:\n",
    "            length = len(list(df[col]))\n",
    "            temp_list = list(df[col])\n",
    "            for i in range(length):\n",
    "                \n",
    "                if \",\" in str(temp_list[i]):\n",
    "                    df[col] = df[col].apply(lambda x: str(x).replace(\",\", \"\").replace('nan', 'NaN')).astype(float)\n",
    "    \n",
    "    df['vote_count'] = df['vote_count'].apply(lambda x: str(x).replace(\",\", \"\").replace('nan', 'NaN')).astype(float)\n",
    "    df['vote_count'] = df['vote_count'].fillna(df['vote_count'].mean())\n",
    "    df['vote_percent'] = df['vote_percent'].fillna(df['vote_percent'].mean())\n",
    "    #df['District'] = df[\"District\"].apply(lambda x: replace_district(x, type))\n",
    "    \n",
    "    # add indicator for female democrat\n",
    "    df['female_dem'] = 0\n",
    "    for index, row in df.iterrows():\n",
    "        if row.sex == 1 and row.party == 1:\n",
    "            df.set_value(index, 'female_dem', 1)\n",
    "            \n",
    "    # remove \"(percent) margin of error\" columns\n",
    "    df = df.iloc[:, [index for index, x in enumerate(df.columns) if 'Margin' not in x]]\n",
    "    \n",
    "    # remove columns with low percent contributions\n",
    "    percent_cols = [col for index, col in enumerate(df.columns) if 'Percent' in col and df[col].mean() < 0.05]\n",
    "    for col in percent_cols:\n",
    "        df = df.drop(col, axis=1)\n",
    "        df = df.drop(col.replace(\"Percent\", \"Estimate\"), axis=1)\n",
    "        \n",
    "    return df"
   ]
  },
  {
   "cell_type": "code",
   "execution_count": 8,
   "metadata": {
    "collapsed": true
   },
   "outputs": [],
   "source": [
    "def independent_columns(A, tol =0): #= 1e-05):\n",
    "    Q, R = np.linalg.qr(A)\n",
    "    independent = np.where(np.abs(R.diagonal()) > tol)[0]\n",
    "    \n",
    "    return independent"
   ]
  },
  {
   "cell_type": "code",
   "execution_count": 81,
   "metadata": {
    "collapsed": false
   },
   "outputs": [],
   "source": [
    "def logistic_regression(train_df):\n",
    "    \n",
    "    \n",
    "    loo = LeaveOneOut()\n",
    "    y_train = train_df['female_dem']\n",
    "    X_train = train_df.drop(['sex', 'female_dem', 'party'], axis=1)\n",
    "    \n",
    "    X_array = X_train.values\n",
    "    y_array = y_train.values\n",
    "    y_true = []\n",
    "    y_pred_acc = []\n",
    "    all_coefs = []\n",
    "    \n",
    "    logreg = LR()\n",
    "    rfe = RFE(logreg, 30)\n",
    "    rfe = rfe.fit(X_array, y_array)\n",
    "    cool = rfe.support_\n",
    "    newX = []\n",
    "    newX_test = []\n",
    "    features = []\n",
    "    count = 0\n",
    "    for col in X_train.columns:\n",
    "        if cool[count]:\n",
    "            features += [col]\n",
    "        count+= 1\n",
    "    for i in range(len(X_array)):\n",
    "        temp = []\n",
    "        for j in range(len(cool)):\n",
    "            if cool[j]:\n",
    "                temp += [X_array[i][j]]\n",
    "        if len(temp)>0:\n",
    "            newX += [temp]\n",
    "    newX = np.array(newX)\n",
    "    all_good_features = []\n",
    "    sig_features_dict = {}\n",
    "    for i in features:\n",
    "        sig_features_dict[i] = 0\n",
    "    for train_index, test_index in loo.split(newX):\n",
    "        X_tr, X_te = newX[train_index], newX[test_index]\n",
    "        y_tr, y_test = y_array[train_index], y_array[test_index]\n",
    "        \n",
    "        classifier = LR()\n",
    "        \n",
    "        \n",
    "        chi, pval = chi2(X_tr, y_tr)\n",
    "        count = 0\n",
    "        good_features = []\n",
    "\n",
    "        for i in range(len(pval)):\n",
    "            if pval[i] < .05:\n",
    "                count+=1\n",
    "                sig_features_dict[features[i]] += pval[i]\n",
    "        classifier.fit(X_tr, y_tr)\n",
    "        pred = classifier.predict(X_te)\n",
    "        \n",
    "        y_true += [y_test[0]]\n",
    "        y_pred_acc += [pred]\n",
    "\n",
    "    for i in sig_features_dict:\n",
    "        sig_features_dict[i] = sig_features_dict[i] / 27\n",
    "    \n",
    "#     significant_features = pd.DataFrame.from_dict(sig_features_dict)\n",
    "    print(\"Test accuracy: {}\".format(accuracy_score(y_true, y_pred_acc)))\n",
    "    return sig_features_dict, accuracy_score(y_true, y_pred_acc)"
   ]
  },
  {
   "cell_type": "code",
   "execution_count": 73,
   "metadata": {
    "collapsed": false
   },
   "outputs": [],
   "source": [
    "def classify_glm(train_df):\n",
    "    \n",
    "    \n",
    "    loo = LeaveOneOut()\n",
    "    y_train = train_df['sex']\n",
    "    X_train = train_df.drop('sex', axis=1)\n",
    "    \n",
    "#     y_val = val_df['sex']\n",
    "#     X_val = val_df.drop('sex', axis=1)\n",
    "    \n",
    "    independent = independent_columns(X_train)\n",
    "    X = X_train.iloc[:, independent]\n",
    "#     X_val = X_val.iloc[:, independent]\n",
    "    print(\"Rank is {}\".format(X_train.shape[1]))\n",
    "    \n",
    "    X_array = X.values\n",
    "    y_array = y_train.values\n",
    "    y_true = []\n",
    "    y_pred_acc = []\n",
    "    \n",
    "#     X_train, X_test, y_train, y_test = tt_split(X_array, y_array, test_size=.67, random_state=27)\n",
    "#     glm = sm.GLM(y_train, X_train)\n",
    "#     results = glm.fit()\n",
    "#     print(results.summary())\n",
    "    \n",
    "#     pred= results.predict(X_test)\n",
    "\n",
    "    for train_index, test_index in loo.split(X_array):\n",
    "        X_tr, X_te = X_array[train_index], X_array[test_index]\n",
    "        y_tr, y_test = y_array[train_index], y_array[test_index]\n",
    "\n",
    "        classifier = sm.GLM(y_tr, X_tr)\n",
    "        results = classifier.fit()\n",
    "        print(results.summary())\n",
    "        pred = round(results.predict(X_te)[0])\n",
    "        y_true += [y_test[0]]\n",
    "        y_pred_acc += [pred]\n",
    "    return accuracy_score(y_true, y_pred_acc)"
   ]
  },
  {
   "cell_type": "code",
   "execution_count": 90,
   "metadata": {
    "collapsed": false
   },
   "outputs": [
    {
     "name": "stdout",
     "output_type": "stream",
     "text": [
      "Senate Logistic Regression: \n",
      "Test accuracy: 0.7777777777777778\n",
      "{'UnEn_Caucasian_high': 0.0, 'Dem_Female': 0.0, 'Total_Voters': 0.0, 'Estimate; SEX AND AGE - Total population': 3.8917654425643231e-16, 'Percent; SEX AND AGE - Total population': 3.8917654425643231e-16, 'Estimate; SEX AND AGE - Total population - Female': 0.00028498324606574335, 'Estimate; SEX AND AGE - 5 to 9 years': 0.0022745215111249512, 'Estimate; SEX AND AGE - 20 to 24 years': 0.0, 'Estimate; SEX AND AGE - 35 to 44 years': 0.0022281353616797756, 'Estimate; SEX AND AGE - 55 to 59 years': 0.0066829445410983412, 'Estimate; SEX AND AGE - 18 years and over': 5.1780965900098242e-14, 'Estimate; SEX AND AGE - 62 years and over': 3.4825161695678315e-163, 'Estimate; SEX AND AGE - 65 years and over': 1.4941721723457067e-165, 'Estimate; SEX AND AGE - 18 years and over.1': 5.1780965900098242e-14, 'Percent; SEX AND AGE - 18 years and over.1': 5.1780965900098242e-14, 'Estimate; SEX AND AGE - 18 years and over - Male': 2.5641487095550071e-23, 'Estimate; SEX AND AGE - 65 years and over.1': 1.4941721723457067e-165, 'Percent; SEX AND AGE - 65 years and over.1': 1.4941721723457067e-165, 'Estimate; SEX AND AGE - 65 years and over - Male': 1.8967787987748923e-93, 'Estimate; RACE - Total population': 3.8917654425643231e-16, 'Estimate; RACE - Total population - Two or more races': 0.0065674271640510113, 'Estimate; RACE - One race - White': 2.0576804192464863e-05, 'Estimate; RACE - One race - Asian - Chinese': 0.0, 'Estimate; RACE - One race - Asian - Other Asian': 0.0, 'Estimate; RACE - Two or more races': 0.0065674271640510113, 'Estimate; RACE - Race alone or in combination with one or more other races - Total population - Black or African American': 1.447558951458456e-196, 'Estimate; HISPANIC OR LATINO AND RACE - Total population - Hispanic or Latino (of any race) - Other Hispanic or Latino': 0.0, 'Estimate; HISPANIC OR LATINO AND RACE - Total population - Not Hispanic or Latino': 0.0, 'Estimate; HISPANIC OR LATINO AND RACE - Total population - Not Hispanic or Latino - Two or more races': 2.4170280965632864e-84, 'Estimate; HISPANIC OR LATINO AND RACE - Total population - Not Hispanic or Latino - Two or more races - Two races excluding Some other race, and Three or more races': 7.7347500444766558e-52}\n",
      "30\n",
      "House Logistic Regression: \n",
      "Test accuracy: 0.9333333333333333\n",
      "{'Dem_4_of_4': 1.0353061959101589e-12, 'Rep_4_of_4': 8.6503587223085839e-40, 'Dem_Caucasian_high': 6.2274837849946699e-07, 'Rep_Caucasian_high': 3.5337206684710307e-103, 'Dem_Male.1': 3.7781924245913065e-90, 'Dem_Female.1': 5.8949325680614816e-57, 'Estimate; SEX AND AGE - 25 to 34 years': 3.474689565184653e-70, 'Estimate; SEX AND AGE - 35 to 44 years': 3.8957428006878459e-06, 'Estimate; SEX AND AGE - 45 to 54 years': 1.8790869131737716e-06, 'Estimate; SEX AND AGE - 55 to 59 years': 5.6160395882922429e-05, 'Estimate; SEX AND AGE - 85 years and over': 2.8108137562134121e-48, 'Estimate; SEX AND AGE - 62 years and over': 1.5218613621492347e-13, 'Estimate; SEX AND AGE - 65 years and over': 1.2201683001561747e-08, 'Estimate; SEX AND AGE - 18 years and over - Male': 6.5469318541492981e-11, 'Percent; SEX AND AGE - 65 years and over.1': 1.2201683001561747e-08, 'Estimate; SEX AND AGE - 65 years and over - Female': 1.8736957784060007e-09, 'Estimate; RACE - Total population - Two or more races': 0.023135401806122943, 'Estimate; RACE - One race - Asian - Chinese': 2.7214682742021942e-05, 'Estimate; RACE - One race - Some other race': 5.0801799762367128e-147, 'Estimate; RACE - Two or more races': 0.023135401806122943, 'Estimate; RACE - Race alone or in combination with one or more other races - Total population - Asian': 2.4711792025909954e-122, 'Estimate; RACE - Race alone or in combination with one or more other races - Total population - Some other race': 9.5778578560044944e-178, 'Estimate; HISPANIC OR LATINO AND RACE - Total population - Hispanic or Latino (of any race)': 6.7130372057870984e-285, 'Estimate; HISPANIC OR LATINO AND RACE - Total population - Hispanic or Latino (of any race) - Puerto Rican': 1.4540007302676669e-05, 'Estimate; HISPANIC OR LATINO AND RACE - Total population - Hispanic or Latino (of any race) - Other Hispanic or Latino': 0.0, 'Estimate; HISPANIC OR LATINO AND RACE - Total housing units': 1.3781004730309873e-06, 'Estimate; Total:': 0.0095968497106054609, 'Estimate; Total: - $60,000 to $74,999': 1.1496045064700716e-41, 'Estimate; Total: - $75,000 to $99,999': 3.5089981456254235e-31, 'Estimate; Total: - $200,000 or more': 0.0}\n"
     ]
    }
   ],
   "source": [
    "senate_data = read_dataset(\"VoteBuilder_and_all_data_Senate.csv\")\n",
    "enumerate_districts(senate_data, \"Senate\")\n",
    "    \n",
    "cleaned_senate = clean_data(senate_data,\"Senate\")\n",
    "# print(cleaned_senate)\n",
    "\n",
    "house_data = read_dataset(\"VoteBuilder_and_all_data_House.csv\")\n",
    "enumerate_districts(house_data, \"House\")\n",
    "    \n",
    "cleaned_house = clean_data(house_data,\"House\")\n",
    "# print(cleaned_house)\n",
    "\n",
    "print(\"Senate Logistic Regression: \")\n",
    "senate_features, accuracy = logistic_regression(cleaned_senate)\n",
    "print(senate_features)\n",
    "print(len(features))\n",
    "# print(\"OLS Generalized Linear Model: \")\n",
    "# print(classify_glm(cleaned_senate))\n",
    "\n",
    "print(\"House Logistic Regression: \")\n",
    "house_features, house_accuracy = logistic_regression(cleaned_house)\n",
    "print(house_features)\n",
    "\n"
   ]
  },
  {
   "cell_type": "code",
   "execution_count": 93,
   "metadata": {
    "collapsed": false
   },
   "outputs": [],
   "source": [
    "with open('senate_features.csv', 'w') as csv_file:\n",
    "    writer = csv.writer(csv_file)\n",
    "    for key, value in senate_features.items():\n",
    "        writer.writerow([key, value])"
   ]
  },
  {
   "cell_type": "code",
   "execution_count": 94,
   "metadata": {
    "collapsed": true
   },
   "outputs": [],
   "source": [
    "with open('house_features.csv', 'w') as csv_file:\n",
    "    writer = csv.writer(csv_file)\n",
    "    for key, value in house_features.items():\n",
    "        writer.writerow([key, value])"
   ]
  },
  {
   "cell_type": "code",
   "execution_count": null,
   "metadata": {
    "collapsed": true
   },
   "outputs": [],
   "source": []
  }
 ],
 "metadata": {
  "kernelspec": {
   "display_name": "Python 3",
   "language": "python",
   "name": "python3"
  },
  "language_info": {
   "codemirror_mode": {
    "name": "ipython",
    "version": 3
   },
   "file_extension": ".py",
   "mimetype": "text/x-python",
   "name": "python",
   "nbconvert_exporter": "python",
   "pygments_lexer": "ipython3",
   "version": "3.6.0"
  }
 },
 "nbformat": 4,
 "nbformat_minor": 2
}
